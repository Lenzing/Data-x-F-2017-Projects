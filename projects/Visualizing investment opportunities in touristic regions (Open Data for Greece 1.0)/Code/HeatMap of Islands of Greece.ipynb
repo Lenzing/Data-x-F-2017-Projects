{
 "cells": [
  {
   "cell_type": "code",
   "execution_count": 9,
   "metadata": {
    "collapsed": true
   },
   "outputs": [],
   "source": [
    "import pandas as pd\n",
    "import geopandas as gpd\n",
    "import folium\n",
    "import os\n",
    "from folium.plugins import HeatMap"
   ]
  },
  {
   "cell_type": "code",
   "execution_count": 10,
   "metadata": {
    "collapsed": true
   },
   "outputs": [],
   "source": [
    "for_map = pd.read_csv('heatmap_input.csv')"
   ]
  },
  {
   "cell_type": "code",
   "execution_count": 18,
   "metadata": {},
   "outputs": [
    {
     "data": {
      "text/html": [
       "<div style=\"width:100%;\"><div style=\"position:relative;width:100%;height:0;padding-bottom:60%;\"><iframe src=\"data:text/html;charset=utf-8;base64,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\" style=\"position:absolute;width:100%;height:100%;left:0;top:0;border:none !important;\" allowfullscreen webkitallowfullscreen mozallowfullscreen></iframe></div></div>"
      ],
      "text/plain": [
       "<folium.folium.Map at 0x118b8c630>"
      ]
     },
     "execution_count": 18,
     "metadata": {},
     "output_type": "execute_result"
    }
   ],
   "source": [
    "\n",
    "max_amount = float(for_map['New_Branches_with_type_of_activity_Industrial_Volume'].max())\n",
    "\n",
    "hmap = folium.Map(location=[37.85, 23.89], zoom_start=6, )\n",
    "\n",
    "data_temp = zip(for_map.lat.values, \n",
    "                for_map.long.values, \n",
    "                for_map.New_Branches_with_type_of_activity_Industrial_Volume.values)\n",
    "\n",
    "data = [[x for x in line] for line in data_temp]\n",
    "\n",
    "hm_wide = HeatMap(data, \n",
    "                  name='New Branches with type of activity Industrial Volume', \n",
    "                  min_opacity=0.4, \n",
    "                  max_val=max_amount, \n",
    "                  radius=16, \n",
    "                  blur=30, \n",
    "                  max_zoom=1)\n",
    "\n",
    "hmap.add_child(hm_wide)"
   ]
  },
  {
   "cell_type": "code",
   "execution_count": null,
   "metadata": {
    "collapsed": true
   },
   "outputs": [],
   "source": []
  },
  {
   "cell_type": "code",
   "execution_count": 17,
   "metadata": {},
   "outputs": [
    {
     "data": {
      "text/html": [
       "<div style=\"width:100%;\"><div style=\"position:relative;width:100%;height:0;padding-bottom:60%;\"><iframe src=\"data:text/html;charset=utf-8;base64,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\" style=\"position:absolute;width:100%;height:100%;left:0;top:0;border:none !important;\" allowfullscreen webkitallowfullscreen mozallowfullscreen></iframe></div></div>"
      ],
      "text/plain": [
       "<folium.folium.Map at 0x118cbfd68>"
      ]
     },
     "execution_count": 17,
     "metadata": {},
     "output_type": "execute_result"
    }
   ],
   "source": [
    "max_amount = float(for_map['New_Branches_with_type_of_activity_Commercial_Value'].max())\n",
    "\n",
    "hmap = folium.Map(location=[37.85, 23.89], zoom_start=6, )\n",
    "\n",
    "data_temp = zip(for_map.lat.values, \n",
    "                for_map.long.values, \n",
    "                for_map.New_Branches_with_type_of_activity_Commercial_Value.values)\n",
    "\n",
    "data = [[x for x in line] for line in data_temp]\n",
    "\n",
    "hm_wide = HeatMap(data, \n",
    "                  name='New_Branches_with_type_of_activity_Commercial_Value', \n",
    "                  min_opacity=0.4, \n",
    "                  max_val=max_amount, \n",
    "                  radius=16, \n",
    "                  blur=30, \n",
    "                  max_zoom=1)\n",
    "\n",
    "hmap.add_child(hm_wide)"
   ]
  },
  {
   "cell_type": "code",
   "execution_count": null,
   "metadata": {
    "collapsed": true
   },
   "outputs": [],
   "source": []
  },
  {
   "cell_type": "code",
   "execution_count": 16,
   "metadata": {},
   "outputs": [
    {
     "data": {
      "text/html": [
       "<div style=\"width:100%;\"><div style=\"position:relative;width:100%;height:0;padding-bottom:60%;\"><iframe src=\"data:text/html;charset=utf-8;base64,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\" style=\"position:absolute;width:100%;height:100%;left:0;top:0;border:none !important;\" allowfullscreen webkitallowfullscreen mozallowfullscreen></iframe></div></div>"
      ],
      "text/plain": [
       "<folium.folium.Map at 0x118a029b0>"
      ]
     },
     "execution_count": 16,
     "metadata": {},
     "output_type": "execute_result"
    }
   ],
   "source": [
    "max_amount = float(for_map['New_Houses_with_one_room'].max())\n",
    "\n",
    "hmap = folium.Map(location=[37.85, 23.89], zoom_start=6, )\n",
    "\n",
    "data_temp = zip(for_map.lat.values, \n",
    "                for_map.long.values, \n",
    "                for_map.New_Houses_with_one_room.values)\n",
    "\n",
    "data = [[x for x in line] for line in data_temp]\n",
    "\n",
    "hm_wide = HeatMap(data, \n",
    "                  name='New_Houses_with_one_room', \n",
    "                  min_opacity=0.4, \n",
    "                  max_val=max_amount, \n",
    "                  radius=16, \n",
    "                  blur=30, \n",
    "                  max_zoom=1)\n",
    "\n",
    "hmap.add_child(hm_wide)"
   ]
  },
  {
   "cell_type": "code",
   "execution_count": null,
   "metadata": {
    "collapsed": true
   },
   "outputs": [],
   "source": []
  },
  {
   "cell_type": "code",
   "execution_count": 19,
   "metadata": {},
   "outputs": [
    {
     "data": {
      "text/html": [
       "<div style=\"width:100%;\"><div style=\"position:relative;width:100%;height:0;padding-bottom:60%;\"><iframe src=\"data:text/html;charset=utf-8;base64,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\" style=\"position:absolute;width:100%;height:100%;left:0;top:0;border:none !important;\" allowfullscreen webkitallowfullscreen mozallowfullscreen></iframe></div></div>"
      ],
      "text/plain": [
       "<folium.folium.Map at 0x118a04748>"
      ]
     },
     "execution_count": 19,
     "metadata": {},
     "output_type": "execute_result"
    }
   ],
   "source": [
    "max_amount = float(for_map['New_Houses_with_2_rooms'].max())\n",
    "\n",
    "hmap = folium.Map(location=[37.85, 23.89], zoom_start=6, )\n",
    "\n",
    "data_temp = zip(for_map.lat.values, \n",
    "                for_map.long.values, \n",
    "                for_map.New_Houses_with_2_rooms.values)\n",
    "\n",
    "data = [[x for x in line] for line in data_temp]\n",
    "\n",
    "hm_wide = HeatMap(data, \n",
    "                  name='New_Houses_with_2_rooms', \n",
    "                  min_opacity=0.4, \n",
    "                  max_val=max_amount, \n",
    "                  radius=16, \n",
    "                  blur=30, \n",
    "                  max_zoom=1)\n",
    "\n",
    "hmap.add_child(hm_wide)"
   ]
  },
  {
   "cell_type": "code",
   "execution_count": null,
   "metadata": {
    "collapsed": true
   },
   "outputs": [],
   "source": []
  },
  {
   "cell_type": "code",
   "execution_count": 20,
   "metadata": {},
   "outputs": [
    {
     "data": {
      "text/html": [
       "<div style=\"width:100%;\"><div style=\"position:relative;width:100%;height:0;padding-bottom:60%;\"><iframe src=\"data:text/html;charset=utf-8;base64,PCFET0NUWVBFIGh0bWw+CjxoZWFkPiAgICAKICAgIDxtZXRhIGh0dHAtZXF1aXY9ImNvbnRlbnQtdHlwZSIgY29udGVudD0idGV4dC9odG1sOyBjaGFyc2V0PVVURi04IiAvPgogICAgPHNjcmlwdD5MX1BSRUZFUl9DQU5WQVMgPSBmYWxzZTsgTF9OT19UT1VDSCA9IGZhbHNlOyBMX0RJU0FCTEVfM0QgPSBmYWxzZTs8L3NjcmlwdD4KICAgIDxzY3JpcHQgc3JjPSJodHRwczovL2Nkbi5qc2RlbGl2ci5uZXQvbnBtL2xlYWZsZXRAMS4yLjAvZGlzdC9sZWFmbGV0LmpzIj48L3NjcmlwdD4KICAgIDxzY3JpcHQgc3JjPSJodHRwczovL2FqYXguZ29vZ2xlYXBpcy5jb20vYWpheC9saWJzL2pxdWVyeS8xLjExLjEvanF1ZXJ5Lm1pbi5qcyI+PC9zY3JpcHQ+CiAgICA8c2NyaXB0IHNyYz0iaHR0cHM6Ly9tYXhjZG4uYm9vdHN0cmFwY2RuLmNvbS9ib290c3RyYXAvMy4yLjAvanMvYm9vdHN0cmFwLm1pbi5qcyI+PC9zY3JpcHQ+CiAgICA8c2NyaXB0IHNyYz0iaHR0cHM6Ly9jZG5qcy5jbG91ZGZsYXJlLmNvbS9hamF4L2xpYnMvTGVhZmxldC5hd2Vzb21lLW1hcmtlcnMvMi4wLjIvbGVhZmxldC5hd2Vzb21lLW1hcmtlcnMuanMiPjwvc2NyaXB0PgogICAgPGxpbmsgcmVsPSJzdHlsZXNoZWV0IiBocmVmPSJodHRwczovL2Nkbi5qc2RlbGl2ci5uZXQvbnBtL2xlYWZsZXRAMS4yLjAvZGlzdC9sZWFmbGV0LmNzcyIgLz4KICAgIDxsaW5rIHJlbD0ic3R5bGVzaGVldCIgaHJlZj0iaHR0cHM6Ly9tYXhjZG4uYm9vdHN0cmFwY2RuLmNvbS9ib290c3RyYXAvMy4yLjAvY3NzL2Jvb3RzdHJhcC5taW4uY3NzIiAvPgogICAgPGxpbmsgcmVsPSJzdHlsZXNoZWV0IiBocmVmPSJodHRwczovL21heGNkbi5ib290c3RyYXBjZG4uY29tL2Jvb3RzdHJhcC8zLjIuMC9jc3MvYm9vdHN0cmFwLXRoZW1lLm1pbi5jc3MiIC8+CiAgICA8bGluayByZWw9InN0eWxlc2hlZXQiIGhyZWY9Imh0dHBzOi8vbWF4Y2RuLmJvb3RzdHJhcGNkbi5jb20vZm9udC1hd2Vzb21lLzQuNi4zL2Nzcy9mb250LWF3ZXNvbWUubWluLmNzcyIgLz4KICAgIDxsaW5rIHJlbD0ic3R5bGVzaGVldCIgaHJlZj0iaHR0cHM6Ly9jZG5qcy5jbG91ZGZsYXJlLmNvbS9hamF4L2xpYnMvTGVhZmxldC5hd2Vzb21lLW1hcmtlcnMvMi4wLjIvbGVhZmxldC5hd2Vzb21lLW1hcmtlcnMuY3NzIiAvPgogICAgPGxpbmsgcmVsPSJzdHlsZXNoZWV0IiBocmVmPSJodHRwczovL3Jhd2dpdC5jb20vcHl0aG9uLXZpc3VhbGl6YXRpb24vZm9saXVtL21hc3Rlci9mb2xpdW0vdGVtcGxhdGVzL2xlYWZsZXQuYXdlc29tZS5yb3RhdGUuY3NzIiAvPgogICAgPHN0eWxlPmh0bWwsIGJvZHkge3dpZHRoOiAxMDAlO2hlaWdodDogMTAwJTttYXJnaW46IDA7cGFkZGluZzogMDt9PC9zdHlsZT4KICAgIDxzdHlsZT4jbWFwIHtwb3NpdGlvbjphYnNvbHV0ZTt0b3A6MDtib3R0b206MDtyaWdodDowO2xlZnQ6MDt9PC9zdHlsZT4KICAgIAogICAgICAgICAgICA8c3R5bGU+ICNtYXBfMGFiODBjNWJkN2JhNDA0MmJkZTRhNDE0ZDM3YTdmZWYgewogICAgICAgICAgICAgICAgcG9zaXRpb24gOiByZWxhdGl2ZTsKICAgICAgICAgICAgICAgIHdpZHRoIDogMTAwLjAlOwogICAgICAgICAgICAgICAgaGVpZ2h0OiAxMDAuMCU7CiAgICAgICAgICAgICAgICBsZWZ0OiAwLjAlOwogICAgICAgICAgICAgICAgdG9wOiAwLjAlOwogICAgICAgICAgICAgICAgfQogICAgICAgICAgICA8L3N0eWxlPgogICAgICAgIAogICAgPHNjcmlwdCBzcmM9Imh0dHBzOi8vbGVhZmxldC5naXRodWIuaW8vTGVhZmxldC5oZWF0L2Rpc3QvbGVhZmxldC1oZWF0LmpzIj48L3NjcmlwdD4KPC9oZWFkPgo8Ym9keT4gICAgCiAgICAKICAgICAgICAgICAgPGRpdiBjbGFzcz0iZm9saXVtLW1hcCIgaWQ9Im1hcF8wYWI4MGM1YmQ3YmE0MDQyYmRlNGE0MTRkMzdhN2ZlZiIgPjwvZGl2PgogICAgICAgIAo8L2JvZHk+CjxzY3JpcHQ+ICAgIAogICAgCgogICAgICAgICAgICAKICAgICAgICAgICAgICAgIHZhciBib3VuZHMgPSBudWxsOwogICAgICAgICAgICAKCiAgICAgICAgICAgIHZhciBtYXBfMGFiODBjNWJkN2JhNDA0MmJkZTRhNDE0ZDM3YTdmZWYgPSBMLm1hcCgKICAgICAgICAgICAgICAgICAgICAgICAgICAgICAgICAgICdtYXBfMGFiODBjNWJkN2JhNDA0MmJkZTRhNDE0ZDM3YTdmZWYnLAogICAgICAgICAgICAgICAgICAgICAgICAgICAgICAgICAge2NlbnRlcjogWzM3Ljg1LDIzLjg5XSwKICAgICAgICAgICAgICAgICAgICAgICAgICAgICAgICAgIHpvb206IDYsCiAgICAgICAgICAgICAgICAgICAgICAgICAgICAgICAgICBtYXhCb3VuZHM6IGJvdW5kcywKICAgICAgICAgICAgICAgICAgICAgICAgICAgICAgICAgIGxheWVyczogW10sCiAgICAgICAgICAgICAgICAgICAgICAgICAgICAgICAgICB3b3JsZENvcHlKdW1wOiBmYWxzZSwKICAgICAgICAgICAgICAgICAgICAgICAgICAgICAgICAgIGNyczogTC5DUlMuRVBTRzM4NTcKICAgICAgICAgICAgICAgICAgICAgICAgICAgICAgICAgfSk7CiAgICAgICAgICAgIAogICAgICAgIAogICAgCiAgICAgICAgICAgIHZhciB0aWxlX2xheWVyXzVmMjA3NWFlMWEyYTQ5M2RiZTU2NTRhMTYyMzVjMjAyID0gTC50aWxlTGF5ZXIoCiAgICAgICAgICAgICAgICAnaHR0cHM6Ly97c30udGlsZS5vcGVuc3RyZWV0bWFwLm9yZy97en0ve3h9L3t5fS5wbmcnLAogICAgICAgICAgICAgICAgewogICJhdHRyaWJ1dGlvbiI6IG51bGwsCiAgImRldGVjdFJldGluYSI6IGZhbHNlLAogICJtYXhab29tIjogMTgsCiAgIm1pblpvb20iOiAxLAogICJub1dyYXAiOiBmYWxzZSwKICAic3ViZG9tYWlucyI6ICJhYmMiCn0KICAgICAgICAgICAgICAgICkuYWRkVG8obWFwXzBhYjgwYzViZDdiYTQwNDJiZGU0YTQxNGQzN2E3ZmVmKTsKICAgICAgICAKICAgIAogICAgICAgICAgICB2YXIgaGVhdF9tYXBfZWRkOWRmYTljN2ExNDgxOWJmZWJiODk0MDc0MTcxYmEgPSBMLmhlYXRMYXllcigKICAgICAgICAgICAgICAgIFtbMzkuOTA5OTk5OTk5OTk5OTk3LCAyNS4xNDAwMDAwMDAwMDAwMDEsIDEzMzk0XSwgWzM4LjM1OTk5OTk5OTk5OTk5OSwgMjYuMTI5OTk5OTk5OTk5OTk5LCAxMzM5NF0sIFszOS4yNTk5OTk5OTk5OTk5OTgsIDI2LjI3LCAxMzM5NF0sIFszNy43NSwgMjYuOTY5OTk5OTk5OTk5OTk5LCAxMzM5NF0sIFszNy41OTAwMDAwMDAwMDAwMDMsIDI2LjEwOTk5OTk5OTk5OTk5OSwgMTMzOTRdLCBbMzcuODI5OTk5OTk5OTk5OTk4LCAyNC45MywgMTgwNjRdLCBbMzcuNTcsIDI1LjE2LCAxODA2NF0sIFszNy40MywgMjQuOTEsIDE4MDY0XSwgWzM3LjQzOTk5OTk5OTk5OTk5OCwgMjUuMzIsIDE4MDY0XSwgWzM2Ljk1MDAwMDAwMDAwMDAwMywgMjYuOTY5OTk5OTk5OTk5OTk5LCAxODA2NF0sIFszNi44OTAwMDAwMDAwMDAwMDEsIDI3LjI4MDAwMDAwMDAwMDAwMSwgMTgwNjRdLCBbMzYuMjQwMDAwMDAwMDAwMDAyLCAyNy45Njk5OTk5OTk5OTk5OTksIDE4MDY0XSwgWzM1LjUwNjU5OTk5OTk5OTk5OSwgMjcuMjEwMDAwMDAwMDAwMDAxLCAxODA2NF0sIFszNy4xMDM2LCAyNS4zNzAwMDAwMDAwMDAwMDEsIDE4MDY0XSwgWzM2LjM5MDAwMDAwMDAwMDAwMSwgMjUuNDYwMDAwMDAwMDAwMDAxLCAxODA2NF0sIFszNi42ODk5OTk5OTk5OTk5OTgsIDI0LjM5MDAwMDAwMDAwMDAwMSwgMTgwNjRdLCBbMzcuMDc5OTk5OTk5OTk5OTk4LCAyNS4xNDk5OTk5OTk5OTk5OTksIDE4MDY0XSwgWzM3LjYwNzU5OTk5OTk5OTk5OCwgMjQuMzA5OTk5OTk5OTk5OTk5LCAxODA2NF0sIFszNS41MDk5OTk5OTk5OTk5OTgsIDI0LjAxMDAwMDAwMDAwMDAwMiwgMTQzOThdLCBbMzUuMzU5OTk5OTk5OTk5OTk5LCAyNC40OCwgMTQzOThdLCBbMzUuMzI5OTk5OTk5OTk5OTk4LCAyNS4xNDAwMDAwMDAwMDAwMDEsIDE0Mzk4XSwgWzM1LjA3OTk5OTk5OTk5OTk5OCwgMjUuNzEwMDAwMDAwMDAwMDAxLCAxNDM5OF1dLAogICAgICAgICAgICAgICAgewogICAgICAgICAgICAgICAgICAgIG1pbk9wYWNpdHk6IDAuNCwKICAgICAgICAgICAgICAgICAgICBtYXhab29tOiAxLAogICAgICAgICAgICAgICAgICAgIG1heDogMTgwNjQuMCwKICAgICAgICAgICAgICAgICAgICByYWRpdXM6IDE2LAogICAgICAgICAgICAgICAgICAgIGJsdXI6IDMwLAogICAgICAgICAgICAgICAgICAgIGdyYWRpZW50OiBudWxsCiAgICAgICAgICAgICAgICAgICAgfSkKICAgICAgICAgICAgICAgIC5hZGRUbyhtYXBfMGFiODBjNWJkN2JhNDA0MmJkZTRhNDE0ZDM3YTdmZWYpOwogICAgICAgIAo8L3NjcmlwdD4=\" style=\"position:absolute;width:100%;height:100%;left:0;top:0;border:none !important;\" allowfullscreen webkitallowfullscreen mozallowfullscreen></iframe></div></div>"
      ],
      "text/plain": [
       "<folium.folium.Map at 0x118ce0e80>"
      ]
     },
     "execution_count": 20,
     "metadata": {},
     "output_type": "execute_result"
    }
   ],
   "source": [
    "max_amount = float(for_map['Headline_Gross_Domestic_Product'].max())\n",
    "\n",
    "hmap = folium.Map(location=[37.85, 23.89], zoom_start=6, )\n",
    "\n",
    "data_temp = zip(for_map.lat.values, \n",
    "                for_map.long.values, \n",
    "                for_map.Headline_Gross_Domestic_Product.values)\n",
    "\n",
    "data = [[x for x in line] for line in data_temp]\n",
    "\n",
    "hm_wide = HeatMap(data, \n",
    "                  name='Headline_Gross_Domestic_Product', \n",
    "                  min_opacity=0.4, \n",
    "                  max_val=max_amount, \n",
    "                  radius=16, \n",
    "                  blur=30, \n",
    "                  max_zoom=1)\n",
    "\n",
    "hmap.add_child(hm_wide)"
   ]
  },
  {
   "cell_type": "code",
   "execution_count": null,
   "metadata": {
    "collapsed": true
   },
   "outputs": [],
   "source": []
  },
  {
   "cell_type": "code",
   "execution_count": 69,
   "metadata": {
    "collapsed": true
   },
   "outputs": [],
   "source": [
    "\n",
    "# for_map = pd.read_csv('heatmap_input.csv')\n",
    "# data_temp = zip(for_map.lat.values, for_map.long.values, for_map.New_Branches_with_type_of_activity_Commercial_Value.values)\n",
    "\n",
    "# data = [[x for x in line] for line in data_temp]"
   ]
  },
  {
   "cell_type": "code",
   "execution_count": 70,
   "metadata": {
    "collapsed": true
   },
   "outputs": [],
   "source": [
    "\n",
    "# m = folium.Map([37.85, 23.89], zoom_start=6)\n",
    "# max_amount = float(for_map['New_Branches_with_type_of_activity_Commercial_Value'].max())\n",
    "\n",
    "# HeatMap(data, min_opacity=0.4,max_val=max_amount, radius=16, blur=30, max_zoom=1).add_to(m)\n",
    "\n",
    "# #m.save(os.path.join('results', 'Heatmap.html'))\n",
    "\n"
   ]
  },
  {
   "cell_type": "code",
   "execution_count": null,
   "metadata": {
    "collapsed": true
   },
   "outputs": [],
   "source": []
  }
 ],
 "metadata": {
  "kernelspec": {
   "display_name": "Python 3",
   "language": "python",
   "name": "python3"
  },
  "language_info": {
   "codemirror_mode": {
    "name": "ipython",
    "version": 3
   },
   "file_extension": ".py",
   "mimetype": "text/x-python",
   "name": "python",
   "nbconvert_exporter": "python",
   "pygments_lexer": "ipython3",
   "version": "3.6.1"
  }
 },
 "nbformat": 4,
 "nbformat_minor": 2
}
