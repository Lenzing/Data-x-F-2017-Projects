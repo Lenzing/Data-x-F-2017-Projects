{
 "cells": [
  {
   "cell_type": "code",
   "execution_count": 1,
   "metadata": {
    "collapsed": true
   },
   "outputs": [],
   "source": [
    "import PyPDF2 as pdf\n"
   ]
  },
  {
   "cell_type": "code",
   "execution_count": 5,
   "metadata": {
    "collapsed": true
   },
   "outputs": [],
   "source": [
    "AFguide = pdf.PdfFileReader(\"18 AF Writing Guide (May 08).pdf\")"
   ]
  },
  {
   "cell_type": "code",
   "execution_count": 57,
   "metadata": {
    "collapsed": true
   },
   "outputs": [],
   "source": [
    "import re\n",
    "import pandas as pd\n",
    "f = open(\"abbreviations.txt\", 'r')\n",
    "text = f.readlines()\n",
    "f.close()\n",
    "text = [word.replace('\\n', '') for word in text]\n",
    "ser = pd.Series(text)\n",
    "word = [ser[i] for i in range(0, len(ser), 2)]\n",
    "abbrv = [ser[i] for i in range(1, len(ser), 2)]\n",
    "df = pd.DataFrame(data = [abbrv, word], index = ['word', 'abbrv']).T\n",
    "df.to_csv(\"2abbrv.csv\")"
   ]
  },
  {
   "cell_type": "code",
   "execution_count": 30,
   "metadata": {
    "collapsed": true,
    "scrolled": false
   },
   "outputs": [],
   "source": [
    "import pandas as pd\n",
    "df = pd.read_excel(\"ACRscrape.xlsx\", header = 0)\n",
    "number_of_original = len(df)\n",
    "for i in range(number_of_original):\n",
    "    curr_entry = df.iloc[i]\n",
    "    if ';' in curr_entry.Definition:\n",
    "        defs = curr_entry.Definition.split(';')\n",
    "        df.iloc[i].Definition = defs[0]\n",
    "        leftover_defs = defs[1:]\n",
    "        temp_df = pd.DataFrame(leftover_defs, columns = ['Definition'])\n",
    "        temp_df['Acronym'] = df.iloc[i].Acronym\n",
    "        df = df.append(temp_df, ignore_index=True)"
   ]
  },
  {
   "cell_type": "code",
   "execution_count": 33,
   "metadata": {
    "collapsed": true,
    "scrolled": true
   },
   "outputs": [],
   "source": [
    "df.to_csv('ACRscrape2.csv')"
   ]
  },
  {
   "cell_type": "code",
   "execution_count": 23,
   "metadata": {
    "collapsed": true
   },
   "outputs": [],
   "source": [
    "df.append({'Definition': 'asdlfj', 'Acronym': 'asdlkfj'}, ignore_index=True).tail()\n",
    "import numpy as np"
   ]
  },
  {
   "cell_type": "code",
   "execution_count": 29,
   "metadata": {},
   "outputs": [
    {
     "data": {
      "text/html": [
       "<div>\n",
       "<style>\n",
       "    .dataframe thead tr:only-child th {\n",
       "        text-align: right;\n",
       "    }\n",
       "\n",
       "    .dataframe thead th {\n",
       "        text-align: left;\n",
       "    }\n",
       "\n",
       "    .dataframe tbody tr th {\n",
       "        vertical-align: top;\n",
       "    }\n",
       "</style>\n",
       "<table border=\"1\" class=\"dataframe\">\n",
       "  <thead>\n",
       "    <tr style=\"text-align: right;\">\n",
       "      <th></th>\n",
       "      <th>Definition</th>\n",
       "      <th>Acronym</th>\n",
       "    </tr>\n",
       "  </thead>\n",
       "  <tbody>\n",
       "    <tr>\n",
       "      <th>3884</th>\n",
       "      <td>counterintelligence and human intelligence sta...</td>\n",
       "      <td>2X</td>\n",
       "    </tr>\n",
       "    <tr>\n",
       "      <th>3885</th>\n",
       "      <td>three-dimensional</td>\n",
       "      <td>3-D</td>\n",
       "    </tr>\n",
       "    <tr>\n",
       "      <th>3886</th>\n",
       "      <td>618 Air Operations Center (Tanker Airlift Cont...</td>\n",
       "      <td>618 AOC (TACC)</td>\n",
       "    </tr>\n",
       "    <tr>\n",
       "      <th>3887</th>\n",
       "      <td>def1</td>\n",
       "      <td>JABBA</td>\n",
       "    </tr>\n",
       "    <tr>\n",
       "      <th>3888</th>\n",
       "      <td>def2</td>\n",
       "      <td>JABBA</td>\n",
       "    </tr>\n",
       "  </tbody>\n",
       "</table>\n",
       "</div>"
      ],
      "text/plain": [
       "                                             Definition         Acronym\n",
       "3884  counterintelligence and human intelligence sta...              2X\n",
       "3885                                  three-dimensional             3-D\n",
       "3886  618 Air Operations Center (Tanker Airlift Cont...  618 AOC (TACC)\n",
       "3887                                               def1           JABBA\n",
       "3888                                               def2           JABBA"
      ]
     },
     "execution_count": 29,
     "metadata": {},
     "output_type": "execute_result"
    }
   ],
   "source": [
    "leftovers = ['def1', 'def2']\n",
    "Acr = 'JABBA'\n",
    "df2 = pd.DataFrame(leftovers, columns = ['Definition'])\n",
    "df2['Acronym'] = Acr\n",
    "df.append(df2, ignore_index=True).tail()"
   ]
  },
  {
   "cell_type": "code",
   "execution_count": 3,
   "metadata": {},
   "outputs": [],
   "source": [
    "from acronyms import *"
   ]
  },
  {
   "cell_type": "code",
   "execution_count": 5,
   "metadata": {},
   "outputs": [
    {
     "data": {
      "text/plain": [
       "'AF'"
      ]
     },
     "execution_count": 5,
     "metadata": {},
     "output_type": "execute_result"
    }
   ],
   "source": [
    "acronyms['Air Force']"
   ]
  },
  {
   "cell_type": "code",
   "execution_count": null,
   "metadata": {
    "collapsed": true
   },
   "outputs": [],
   "source": []
  }
 ],
 "metadata": {
  "kernelspec": {
   "display_name": "Python 3",
   "language": "python",
   "name": "python3"
  },
  "language_info": {
   "codemirror_mode": {
    "name": "ipython",
    "version": 3
   },
   "file_extension": ".py",
   "mimetype": "text/x-python",
   "name": "python",
   "nbconvert_exporter": "python",
   "pygments_lexer": "ipython3",
   "version": "3.6.1"
  }
 },
 "nbformat": 4,
 "nbformat_minor": 2
}
