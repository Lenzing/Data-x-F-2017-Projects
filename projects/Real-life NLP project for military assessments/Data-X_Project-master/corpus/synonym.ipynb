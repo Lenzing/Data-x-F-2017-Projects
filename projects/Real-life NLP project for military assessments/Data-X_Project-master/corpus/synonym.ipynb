{
 "cells": [
  {
   "cell_type": "code",
   "execution_count": 3,
   "metadata": {
    "collapsed": true
   },
   "outputs": [],
   "source": [
    "import nltk\n",
    "import re\n",
    "from nltk.corpus import wordnet as wn\n",
    "from nltk import word_tokenize\n",
    "from py_thesaurus import WordAnalyzer\n",
    "import pandas as pd"
   ]
  },
  {
   "cell_type": "code",
   "execution_count": 4,
   "metadata": {
    "collapsed": true
   },
   "outputs": [],
   "source": [
    "def initialize():\n",
    "    with open('dictionary.txt','r') as response:\n",
    "        raw = response.read()\n",
    "    raw = re.sub(\"[^a-zA-Z]\", \" \",raw)\n",
    "    tokens = word_tokenize(raw)\n",
    "    text = nltk.Text(tokens)\n",
    "    return (text)"
   ]
  },
  {
   "cell_type": "code",
   "execution_count": 5,
   "metadata": {
    "collapsed": true
   },
   "outputs": [],
   "source": [
    "def synonym_wn (input, output, form = None):\n",
    "    '''\n",
    "    Function to provide synonyms for words from the Wordnet corpus.\n",
    "    \n",
    "    Input should be a string\n",
    "    Form refers to the parts of speech, which by default is None. Options include:\n",
    "    'n'    NOUN \n",
    "    'v'    VERB \n",
    "    'a'    ADJECTIVE \n",
    "    's'    ADJECTIVE SATELLITE \n",
    "    'r'    ADVERB \n",
    "    \n",
    "    output takes an integer denoting number of synonyms to output\n",
    "    '''\n",
    "    a = []\n",
    "    synon = []\n",
    "    counter = 0\n",
    "    for i,synset in enumerate(wn.synsets(input, form)):\n",
    "        a.append(synset.lemma_names())\n",
    "\n",
    "    for lis in a:\n",
    "        for item in lis:\n",
    "            if item not in synon: \n",
    "                if counter < output: \n",
    "                    synon.append(item)\n",
    "                    counter += 1\n",
    "    return(synon)\n",
    "    #return(list(set(synon)))"
   ]
  },
  {
   "cell_type": "code",
   "execution_count": 6,
   "metadata": {},
   "outputs": [],
   "source": [
    "def synonym_the (input, output):\n",
    "    '''\n",
    "    Function to provide synonyms for words from Thesaurus.com.\n",
    "    Output takes an integer denoting number of synonyms to output\n",
    "    '''\n",
    "    a = WordAnalyzer(input).get_synonym()\n",
    "    synon = []\n",
    "    \n",
    "    for i, item in enumerate(a): \n",
    "        if i < output: synon.append(item)\n",
    "    return(list(set(synon)))"
   ]
  },
  {
   "cell_type": "code",
   "execution_count": 7,
   "metadata": {},
   "outputs": [],
   "source": [
    "def synonym (input, output = 20):\n",
    "    '''\n",
    "    Returns a pandas table with the synonyms from the Thesaurus and Wordnet datasets.\n",
    "    Input should be a string\n",
    "    Output is the maximum number of synonyms returned. Should be an int\n",
    "    '''\n",
    "    text = initialize()\n",
    "    df = pd.DataFrame({'The_count': 0,\n",
    "                       'Wordnet' : pd.Series(synonym_wn(input, output)),\n",
    "                       'Thesaurus' : pd.Series(synonym_the(input, output)),\n",
    "                      'WN_count': 0})\n",
    "    for ind in df.index:    \n",
    "        df.loc[ind,('The_count')] = text.count(df['Thesaurus'][ind])\n",
    "        df.loc[ind,('WN_count')] = text.count(df['Wordnet'][ind])\n",
    "\n",
    "    df = df[['Thesaurus', 'The_count', 'Wordnet', 'WN_count']]    \n",
    "    return(df)"
   ]
  }
 ],
 "metadata": {
  "kernelspec": {
   "display_name": "Python 3",
   "language": "python",
   "name": "python3"
  },
  "language_info": {
   "codemirror_mode": {
    "name": "ipython",
    "version": 3
   },
   "file_extension": ".py",
   "mimetype": "text/x-python",
   "name": "python",
   "nbconvert_exporter": "python",
   "pygments_lexer": "ipython3",
   "version": "3.6.3"
  }
 },
 "nbformat": 4,
 "nbformat_minor": 2
}
