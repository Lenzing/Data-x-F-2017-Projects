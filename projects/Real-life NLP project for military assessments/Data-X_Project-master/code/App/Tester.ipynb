{
 "cells": [
  {
   "cell_type": "code",
   "execution_count": 5,
   "metadata": {
    "collapsed": true
   },
   "outputs": [],
   "source": [
    "from converter import RunConvert"
   ]
  },
  {
   "cell_type": "code",
   "execution_count": 1,
   "metadata": {
    "collapsed": true
   },
   "outputs": [],
   "source": [
    "from acronyms import *"
   ]
  },
  {
   "cell_type": "code",
   "execution_count": 4,
   "metadata": {},
   "outputs": [
    {
     "data": {
      "text/plain": [
       "['AF planes fly over compact disc',\n",
       " 'Air Force planes fly over CD',\n",
       " 'Air Force planes fly over compact disc']"
      ]
     },
     "execution_count": 4,
     "metadata": {},
     "output_type": "execute_result"
    }
   ],
   "source": [
    "ACR_Replace('Air Force planes fly over compact disc')"
   ]
  },
  {
   "cell_type": "code",
   "execution_count": 6,
   "metadata": {},
   "outputs": [
    {
     "data": {
      "text/plain": [
       "[\"-  Amplified Sq's teaching capes; graduated 80-hr POI crs--sole certified Sq mbr, set std f/peers/4 instructor LMs GPS\"]"
      ]
     },
     "execution_count": 6,
     "metadata": {},
     "output_type": "execute_result"
    }
   ],
   "source": [
    "string = \"- Amplified Sq's teaching capes; graduated 80-hr POI crs--sole certified Sq mbr, set std f/peers/4 instructor LMs Global Positioning System\"\n",
    "RunConvert(string)"
   ]
  },
  {
   "cell_type": "code",
   "execution_count": 8,
   "metadata": {},
   "outputs": [
    {
     "name": "stdout",
     "output_type": "stream",
     "text": [
      "A\n",
      "i\n",
      "A i\n"
     ]
    }
   ],
   "source": [
    "start=0\n",
    "string = 'Air Force'\n",
    "split_string=word_tokenize(string)\n",
    "i=start\n",
    "for j in range(6):\n",
    "    for k in range(start,len(split_string)-j):\n",
    "        x = ' '.join(string[k:k+j+1])\n",
    "        i+=1\n",
    "        print(x)\n",
    "        if x in acronyms:\n",
    "            new_string = string.replace(x, acronyms[x])\n",
    "#             output = output + ACR_Replace(new_string, i)"
   ]
  },
  {
   "cell_type": "code",
   "execution_count": 1,
   "metadata": {},
   "outputs": [],
   "source": [
    "from csv_to_dict import *"
   ]
  },
  {
   "cell_type": "code",
   "execution_count": 4,
   "metadata": {},
   "outputs": [],
   "source": [
    "from abbreviations import *\n",
    "import pandas as pd"
   ]
  },
  {
   "cell_type": "code",
   "execution_count": 11,
   "metadata": {},
   "outputs": [],
   "source": [
    "pd.Series(abb_forwards).to_csv('resources/Abbreviations.csv')"
   ]
  },
  {
   "cell_type": "code",
   "execution_count": null,
   "metadata": {
    "collapsed": true
   },
   "outputs": [],
   "source": []
  }
 ],
 "metadata": {
  "kernelspec": {
   "display_name": "Python 3",
   "language": "python",
   "name": "python3"
  },
  "language_info": {
   "codemirror_mode": {
    "name": "ipython",
    "version": 3
   },
   "file_extension": ".py",
   "mimetype": "text/x-python",
   "name": "python",
   "nbconvert_exporter": "python",
   "pygments_lexer": "ipython3",
   "version": "3.6.1"
  }
 },
 "nbformat": 4,
 "nbformat_minor": 2
}
