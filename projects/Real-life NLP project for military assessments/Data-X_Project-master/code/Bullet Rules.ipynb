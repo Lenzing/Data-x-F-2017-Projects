{
 "cells": [
  {
   "cell_type": "markdown",
   "metadata": {},
   "source": [
    "# Bullet Formatting Rules"
   ]
  },
  {
   "cell_type": "code",
   "execution_count": 1,
   "metadata": {
    "collapsed": true
   },
   "outputs": [],
   "source": [
    "import nltk\n",
    "from nltk.corpus import wordnet as wn"
   ]
  },
  {
   "cell_type": "code",
   "execution_count": 2,
   "metadata": {},
   "outputs": [
    {
     "name": "stdout",
     "output_type": "stream",
     "text": [
      "['adult_male', 'military_man', 'man', 'military_personnel', 'man', 'human_being', 'human', 'valet_de_chambre', 'gentleman', \"gentleman's_gentleman\", 'man', 'Isle_of_Man', 'piece', 'human_race', 'humanity', 'humankind', 'human_beings', 'humans', 'mankind', 'man']\n"
     ]
    }
   ],
   "source": [
    "synonyms = []\n",
    "antonyms = []\n",
    "for syn in wn.synsets(\"man\"):\n",
    "    for l in syn.lemmas()[1:]:\n",
    "        synonyms.append(l.name())\n",
    "        if l.antonyms():\n",
    "            antonyms.append(l.antonyms()[0].name())\n",
    "print(synonyms)"
   ]
  },
  {
   "cell_type": "code",
   "execution_count": 35,
   "metadata": {},
   "outputs": [
    {
     "ename": "MemoryError",
     "evalue": "",
     "output_type": "error",
     "traceback": [
      "\u001b[1;31m---------------------------------------------------------------------------\u001b[0m",
      "\u001b[1;31mMemoryError\u001b[0m                               Traceback (most recent call last)",
      "\u001b[1;32m<ipython-input-35-f2f7778336d8>\u001b[0m in \u001b[0;36m<module>\u001b[1;34m()\u001b[0m\n\u001b[0;32m     10\u001b[0m \u001b[1;33m\u001b[0m\u001b[0m\n\u001b[0;32m     11\u001b[0m \u001b[1;31m# draw text, half opacity\u001b[0m\u001b[1;33m\u001b[0m\u001b[1;33m\u001b[0m\u001b[0m\n\u001b[1;32m---> 12\u001b[1;33m \u001b[0md\u001b[0m\u001b[1;33m.\u001b[0m\u001b[0mtext\u001b[0m\u001b[1;33m(\u001b[0m\u001b[1;33m(\u001b[0m\u001b[1;36m0\u001b[0m\u001b[1;33m,\u001b[0m\u001b[1;36m0\u001b[0m\u001b[1;33m)\u001b[0m\u001b[1;33m,\u001b[0m \u001b[1;34m\"A blockchain is a distributed way of record keeping. It is designed to allow for a trustless\"\u001b[0m\u001b[1;33m,\u001b[0m \u001b[0mfont\u001b[0m\u001b[1;33m=\u001b[0m\u001b[0mfnt\u001b[0m\u001b[1;33m,\u001b[0m \u001b[0mfill\u001b[0m\u001b[1;33m=\u001b[0m\u001b[1;33m(\u001b[0m\u001b[1;36m0\u001b[0m\u001b[1;33m,\u001b[0m\u001b[1;36m0\u001b[0m\u001b[1;33m,\u001b[0m\u001b[1;36m0\u001b[0m\u001b[1;33m,\u001b[0m\u001b[1;36m0\u001b[0m\u001b[1;33m)\u001b[0m\u001b[1;33m)\u001b[0m\u001b[1;33m\u001b[0m\u001b[0m\n\u001b[0m\u001b[0;32m     13\u001b[0m \u001b[1;33m\u001b[0m\u001b[0m\n\u001b[0;32m     14\u001b[0m \u001b[0mtxt\u001b[0m\u001b[1;33m.\u001b[0m\u001b[0msave\u001b[0m\u001b[1;33m(\u001b[0m\u001b[1;34m'texttest'\u001b[0m\u001b[1;33m,\u001b[0m \u001b[1;34m'jpeg'\u001b[0m\u001b[1;33m)\u001b[0m\u001b[1;33m\u001b[0m\u001b[0m\n",
      "\u001b[1;32mC:\\Users\\riversj\\Anaconda3\\envs\\data-x\\lib\\site-packages\\PIL\\ImageDraw.py\u001b[0m in \u001b[0;36mtext\u001b[1;34m(self, xy, text, fill, font, anchor, *args, **kwargs)\u001b[0m\n\u001b[0;32m    216\u001b[0m         \u001b[1;32mif\u001b[0m \u001b[0mink\u001b[0m \u001b[1;32mis\u001b[0m \u001b[1;32mnot\u001b[0m \u001b[1;32mNone\u001b[0m\u001b[1;33m:\u001b[0m\u001b[1;33m\u001b[0m\u001b[0m\n\u001b[0;32m    217\u001b[0m             \u001b[1;32mtry\u001b[0m\u001b[1;33m:\u001b[0m\u001b[1;33m\u001b[0m\u001b[0m\n\u001b[1;32m--> 218\u001b[1;33m                 \u001b[0mmask\u001b[0m\u001b[1;33m,\u001b[0m \u001b[0moffset\u001b[0m \u001b[1;33m=\u001b[0m \u001b[0mfont\u001b[0m\u001b[1;33m.\u001b[0m\u001b[0mgetmask2\u001b[0m\u001b[1;33m(\u001b[0m\u001b[0mtext\u001b[0m\u001b[1;33m,\u001b[0m \u001b[0mself\u001b[0m\u001b[1;33m.\u001b[0m\u001b[0mfontmode\u001b[0m\u001b[1;33m)\u001b[0m\u001b[1;33m\u001b[0m\u001b[0m\n\u001b[0m\u001b[0;32m    219\u001b[0m                 \u001b[0mxy\u001b[0m \u001b[1;33m=\u001b[0m \u001b[0mxy\u001b[0m\u001b[1;33m[\u001b[0m\u001b[1;36m0\u001b[0m\u001b[1;33m]\u001b[0m \u001b[1;33m+\u001b[0m \u001b[0moffset\u001b[0m\u001b[1;33m[\u001b[0m\u001b[1;36m0\u001b[0m\u001b[1;33m]\u001b[0m\u001b[1;33m,\u001b[0m \u001b[0mxy\u001b[0m\u001b[1;33m[\u001b[0m\u001b[1;36m1\u001b[0m\u001b[1;33m]\u001b[0m \u001b[1;33m+\u001b[0m \u001b[0moffset\u001b[0m\u001b[1;33m[\u001b[0m\u001b[1;36m1\u001b[0m\u001b[1;33m]\u001b[0m\u001b[1;33m\u001b[0m\u001b[0m\n\u001b[0;32m    220\u001b[0m             \u001b[1;32mexcept\u001b[0m \u001b[0mAttributeError\u001b[0m\u001b[1;33m:\u001b[0m\u001b[1;33m\u001b[0m\u001b[0m\n",
      "\u001b[1;32mC:\\Users\\riversj\\Anaconda3\\envs\\data-x\\lib\\site-packages\\PIL\\ImageFont.py\u001b[0m in \u001b[0;36mgetmask2\u001b[1;34m(self, text, mode, fill)\u001b[0m\n\u001b[0;32m    149\u001b[0m     \u001b[1;32mdef\u001b[0m \u001b[0mgetmask2\u001b[0m\u001b[1;33m(\u001b[0m\u001b[0mself\u001b[0m\u001b[1;33m,\u001b[0m \u001b[0mtext\u001b[0m\u001b[1;33m,\u001b[0m \u001b[0mmode\u001b[0m\u001b[1;33m=\u001b[0m\u001b[1;34m\"\"\u001b[0m\u001b[1;33m,\u001b[0m \u001b[0mfill\u001b[0m\u001b[1;33m=\u001b[0m\u001b[0mImage\u001b[0m\u001b[1;33m.\u001b[0m\u001b[0mcore\u001b[0m\u001b[1;33m.\u001b[0m\u001b[0mfill\u001b[0m\u001b[1;33m)\u001b[0m\u001b[1;33m:\u001b[0m\u001b[1;33m\u001b[0m\u001b[0m\n\u001b[0;32m    150\u001b[0m         \u001b[0msize\u001b[0m\u001b[1;33m,\u001b[0m \u001b[0moffset\u001b[0m \u001b[1;33m=\u001b[0m \u001b[0mself\u001b[0m\u001b[1;33m.\u001b[0m\u001b[0mfont\u001b[0m\u001b[1;33m.\u001b[0m\u001b[0mgetsize\u001b[0m\u001b[1;33m(\u001b[0m\u001b[0mtext\u001b[0m\u001b[1;33m)\u001b[0m\u001b[1;33m\u001b[0m\u001b[0m\n\u001b[1;32m--> 151\u001b[1;33m         \u001b[0mim\u001b[0m \u001b[1;33m=\u001b[0m \u001b[0mfill\u001b[0m\u001b[1;33m(\u001b[0m\u001b[1;34m\"L\"\u001b[0m\u001b[1;33m,\u001b[0m \u001b[0msize\u001b[0m\u001b[1;33m,\u001b[0m \u001b[1;36m0\u001b[0m\u001b[1;33m)\u001b[0m\u001b[1;33m\u001b[0m\u001b[0m\n\u001b[0m\u001b[0;32m    152\u001b[0m         \u001b[0mself\u001b[0m\u001b[1;33m.\u001b[0m\u001b[0mfont\u001b[0m\u001b[1;33m.\u001b[0m\u001b[0mrender\u001b[0m\u001b[1;33m(\u001b[0m\u001b[0mtext\u001b[0m\u001b[1;33m,\u001b[0m \u001b[0mim\u001b[0m\u001b[1;33m.\u001b[0m\u001b[0mid\u001b[0m\u001b[1;33m,\u001b[0m \u001b[0mmode\u001b[0m \u001b[1;33m==\u001b[0m \u001b[1;34m\"1\"\u001b[0m\u001b[1;33m)\u001b[0m\u001b[1;33m\u001b[0m\u001b[0m\n\u001b[0;32m    153\u001b[0m         \u001b[1;32mreturn\u001b[0m \u001b[0mim\u001b[0m\u001b[1;33m,\u001b[0m \u001b[0moffset\u001b[0m\u001b[1;33m\u001b[0m\u001b[0m\n",
      "\u001b[1;31mMemoryError\u001b[0m: "
     ]
    }
   ],
   "source": [
    "from PIL import Image, ImageDraw, ImageFont\n",
    "fnt = ImageFont.truetype('PSMT.ttf', -26)\n",
    "#fnt = ImageFont.truetype('times.ttf', 26)\n",
    "\n",
    "# make a blank image for the text, initialized to transparent text color\n",
    "txt = Image.new('RGBA', [1000,50], (255,255,255,0))\n",
    "\n",
    "# get a drawing context\n",
    "d = ImageDraw.Draw(txt)\n",
    "\n",
    "# draw text, half opacity\n",
    "d.text((0,0), \"A blockchain is a distributed way of record keeping. It is designed to allow for a trustless\", font=fnt, fill=(0,0,0,0))\n",
    "\n",
    "txt.save('texttest', 'jpeg')\n"
   ]
  },
  {
   "cell_type": "code",
   "execution_count": 39,
   "metadata": {},
   "outputs": [
    {
     "name": "stdout",
     "output_type": "stream",
     "text": [
      "220\n",
      "221\n",
      "256\n",
      "274\n",
      "292\n"
     ]
    }
   ],
   "source": [
    "from tkinter import font as tkFont\n",
    "for test_size in range(200,301):\n",
    "    \n",
    "    family, size = (\"times\", -test_size)\n",
    "    text1 = \"mmmmmmmmmmmmmmmmmmmmmmmmmmmmmmmmmmmmmmmmmmmmmmmmmmmmmmmmmmmmmi\"\n",
    "    text2 = \"iiiiiiiiiiiiiiiiiiiiiiiiiiiiiiiiiiiiiiiiiiiiiiiiiiiiiiiiiiiiiiiiiiiiiiiiiiiiiiiiiiiiiiiiiiiiiiiiiiiiiiiiiiiiiiiiiiiiiiiiiiiiiiiiiiiiiiiiiiiiiiiiiiiiiiiiiiiiiiiiiiiiiiiiiiii\"\n",
    "    font = tkFont.Font(family=family, size=size)\n",
    "    (w1, h1) = (font.measure(text1),font.metrics(\"linespace\"))\n",
    "    #print(w1)\n",
    "    (w2, h2) = (font.measure(text2),font.metrics(\"linespace\"))\n",
    "    #print(w2)\n",
    "    if abs(w1-w2)<=5: print(test_size)"
   ]
  },
  {
   "cell_type": "code",
   "execution_count": 9,
   "metadata": {},
   "outputs": [
    {
     "ename": "AttributeError",
     "evalue": "'Font' object has no attribute 'reqwidth'",
     "output_type": "error",
     "traceback": [
      "\u001b[1;31m---------------------------------------------------------------------------\u001b[0m",
      "\u001b[1;31mAttributeError\u001b[0m                            Traceback (most recent call last)",
      "\u001b[1;32m<ipython-input-9-2e325d672910>\u001b[0m in \u001b[0;36m<module>\u001b[1;34m()\u001b[0m\n\u001b[0;32m      1\u001b[0m \u001b[1;32mfrom\u001b[0m \u001b[0mtkinter\u001b[0m \u001b[1;32mimport\u001b[0m \u001b[0mfont\u001b[0m \u001b[1;32mas\u001b[0m \u001b[0mtkFont\u001b[0m\u001b[1;33m\u001b[0m\u001b[0m\n\u001b[0;32m      2\u001b[0m \u001b[0mfont\u001b[0m \u001b[1;33m=\u001b[0m \u001b[0mtkFont\u001b[0m\u001b[1;33m.\u001b[0m\u001b[0mFont\u001b[0m\u001b[1;33m(\u001b[0m\u001b[0mfont\u001b[0m\u001b[1;33m=\u001b[0m\u001b[1;34m'Times 12'\u001b[0m\u001b[1;33m)\u001b[0m\u001b[1;33m\u001b[0m\u001b[0m\n\u001b[1;32m----> 3\u001b[1;33m \u001b[0mfont\u001b[0m\u001b[1;33m.\u001b[0m\u001b[0mreqwidth\u001b[0m\u001b[1;33m(\u001b[0m\u001b[1;33m)\u001b[0m\u001b[1;33m\u001b[0m\u001b[0m\n\u001b[0m",
      "\u001b[1;31mAttributeError\u001b[0m: 'Font' object has no attribute 'reqwidth'"
     ]
    }
   ],
   "source": [
    "from tkinter import font as tkFont\n",
    "font = tkFont.Font(font='Times 12')\n",
    "font.reqwidth()"
   ]
  },
  {
   "cell_type": "code",
   "execution_count": 51,
   "metadata": {},
   "outputs": [
    {
     "name": "stdout",
     "output_type": "stream",
     "text": [
      "times -12: (64,15)\n",
      "times -24: (125,27)\n"
     ]
    }
   ],
   "source": [
    "# 86, 87, 91, 92\n",
    "\n",
    "import tkinter as tk\n",
    "from tkinter import font as tkFont\n",
    "root = tk.Tk()\n",
    "canvas = tk.Canvas(root, width=300, height=200)\n",
    "canvas.pack()\n",
    "(x,y) = (5,5)\n",
    "text = \"yellow world\"\n",
    "fonts = []\n",
    "for (family,size) in [(\"times\",12),(\"times\",-24)]:\n",
    "    font = tkFont.Font(family=family, size=size)\n",
    "    (w,h) = (font.measure(text),font.metrics(\"linespace\"))\n",
    "    print(\"%s %s: (%s,%s)\" % (family,size,w,h))\n",
    "    canvas.create_rectangle(x,y,x+w,y+h)\n",
    "    canvas.create_text(x,y,text=text,font=font,anchor=tk.NW)\n",
    "    #fonts.append(font) # save object from garbage collecting\n",
    "    y += h+5\n",
    "tk.mainloop()"
   ]
  },
  {
   "cell_type": "markdown",
   "metadata": {},
   "source": [
    "The following shows the distribution of the lengths of the example bullets that were provided."
   ]
  },
  {
   "cell_type": "code",
   "execution_count": 71,
   "metadata": {},
   "outputs": [
    {
     "name": "stdout",
     "output_type": "stream",
     "text": [
      "0\n",
      "4\n",
      "5\n",
      "14\n",
      "21\n",
      "23\n",
      "25\n",
      "40\n",
      "42\n",
      "59\n",
      "111\n",
      "125\n",
      "179\n",
      "243\n",
      "261\n"
     ]
    },
    {
     "data": {
      "text/plain": [
       "(array([ 2.,  1.,  0.,  0.,  1.,  1.,  1.,  3.,  1.,  0.,  1.,  0.,  3.,\n",
       "         3.,  0.,  0.,  1.,  1.,  1.,  3.,  1.,  1.,  3.,  1.,  0.,  1.,\n",
       "         0.,  0.,  0.,  2.]),\n",
       " array([ 14152. ,  14159.6,  14167.2,  14174.8,  14182.4,  14190. ,\n",
       "         14197.6,  14205.2,  14212.8,  14220.4,  14228. ,  14235.6,\n",
       "         14243.2,  14250.8,  14258.4,  14266. ,  14273.6,  14281.2,\n",
       "         14288.8,  14296.4,  14304. ,  14311.6,  14319.2,  14326.8,\n",
       "         14334.4,  14342. ,  14349.6,  14357.2,  14364.8,  14372.4,  14380. ]),\n",
       " <a list of 30 Patch objects>)"
      ]
     },
     "execution_count": 71,
     "metadata": {},
     "output_type": "execute_result"
    },
    {
     "data": {
      "image/png": "[encoded data removed]",
      "text/plain": [
       "<matplotlib.figure.Figure at 0x1fc2fab5dd8>"
      ]
     },
     "metadata": {},
     "output_type": "display_data"
    }
   ],
   "source": [
    "import tkinter as tk\n",
    "from tkinter import font as tkFont\n",
    "import numpy as np\n",
    "import matplotlib.pyplot as plt\n",
    "%matplotlib inline\n",
    "root = tk.Tk()\n",
    "dist_range = np.inf\n",
    "for test_size in range(301):\n",
    "    \n",
    "    family, size = (\"times\", -test_size)\n",
    "    font = tkFont.Font(family=family, size=size)\n",
    "\n",
    "    ExBul = open(\"ExampleBullets.txt\", 'r')\n",
    "    bullets = ExBul.readlines()\n",
    "    lengths = np.zeros(len(bullets))\n",
    "    for i in range(len(bullets)):\n",
    "        if i == len(bullets)-1:\n",
    "            (lengths[i], h1) = (font.measure(bullets[i]),font.metrics(\"linespace\"))\n",
    "        else:\n",
    "            (lengths[i], h1) = (font.measure(bullets[i][:-1]),font.metrics(\"linespace\"))\n",
    "    new_range = np.std(lengths)/max(lengths)\n",
    "    if new_range <= dist_range: \n",
    "        dist_range = new_range\n",
    "        print(test_size)\n",
    "plt.hist(lengths, bins=30)"
   ]
  },
  {
   "cell_type": "code",
   "execution_count": 73,
   "metadata": {},
   "outputs": [
    {
     "data": {
      "text/plain": [
       "(array([ 1.,  0.,  2.,  0.,  1.,  1.,  0.,  3.,  0.,  2.,  0.,  1.,  2.,\n",
       "         1.,  3.,  0.,  1.,  2.,  2.,  0.,  3.,  3.,  1.,  0.,  1.,  0.,\n",
       "         0.,  0.,  0.,  2.]),\n",
       " array([ 11494. ,  11500.4,  11506.8,  11513.2,  11519.6,  11526. ,\n",
       "         11532.4,  11538.8,  11545.2,  11551.6,  11558. ,  11564.4,\n",
       "         11570.8,  11577.2,  11583.6,  11590. ,  11596.4,  11602.8,\n",
       "         11609.2,  11615.6,  11622. ,  11628.4,  11634.8,  11641.2,\n",
       "         11647.6,  11654. ,  11660.4,  11666.8,  11673.2,  11679.6,  11686. ]),\n",
       " <a list of 30 Patch objects>)"
      ]
     },
     "execution_count": 73,
     "metadata": {},
     "output_type": "execute_result"
    },
    {
     "data": {
      "image/png": "[encoded data removed]",
      "text/plain": [
       "<matplotlib.figure.Figure at 0x1fc2f773048>"
      ]
     },
     "metadata": {},
     "output_type": "display_data"
    }
   ],
   "source": [
    "import tkinter as tk\n",
    "from tkinter import font as tkFont\n",
    "import numpy as np\n",
    "import matplotlib.pyplot as plt\n",
    "%matplotlib inline\n",
    "root = tk.Tk()\n",
    "family, size = (\"times\", -243)\n",
    "font = tkFont.Font(family=family, size=size)\n",
    "ExBul = open(\"ExampleBullets.txt\", 'r')\n",
    "bullets = ExBul.readlines()\n",
    "lengths = np.zeros(len(bullets))\n",
    "for i in range(len(bullets)):\n",
    "    if i == len(bullets)-1:\n",
    "        (lengths[i], h1) = (font.measure(bullets[i]),font.metrics(\"linespace\"))\n",
    "    else:\n",
    "        (lengths[i], h1) = (font.measure(bullets[i][:-1]),font.metrics(\"linespace\"))\n",
    "plt.hist(lengths, bins=30)"
   ]
  },
  {
   "cell_type": "markdown",
   "metadata": {
    "collapsed": true
   },
   "source": [
    "Next we will define a converter that transforms written numbers to numerals"
   ]
  },
  {
   "cell_type": "code",
   "execution_count": 31,
   "metadata": {},
   "outputs": [
    {
     "data": {
      "text/plain": [
       "'45-feel--good man army'"
      ]
     },
     "execution_count": 31,
     "metadata": {},
     "output_type": "execute_result"
    }
   ],
   "source": [
    "def text2int(textnum, numwords={}):\n",
    "    '''\n",
    "    This function takes a text string as input (textnum) and returns the string with plain english numbers replaced\n",
    "    with numerals (ex: one hundred and two -> 102). It should be able to handle hyphens such as forty-six -> 46. It \n",
    "    walks through the string recursively. It was adapted from the code found here:\n",
    "    https://stackoverflow.com/questions/493174/is-there-a-way-to-convert-number-words-to-integers\n",
    "    '''\n",
    "    if not numwords:\n",
    "        #this section will only execute if numwords is not passed into the function.\n",
    "        units = [\n",
    "        \"zero\", \"one\", \"two\", \"three\", \"four\", \"five\", \"six\", \"seven\", \"eight\",\n",
    "        \"nine\", \"ten\", \"eleven\", \"twelve\", \"thirteen\", \"fourteen\", \"fifteen\",\n",
    "        \"sixteen\", \"seventeen\", \"eighteen\", \"nineteen\",\n",
    "        ]\n",
    "\n",
    "        tens = [\"\", \"\", \"twenty\", \"thirty\", \"forty\", \"fifty\", \"sixty\", \"seventy\", \"eighty\", \"ninety\"]\n",
    "\n",
    "        scales = [\"hundred\", \"thousand\", \"million\", \"billion\", \"trillion\"]\n",
    "\n",
    "        numwords[\"and\"] = (1, 0)\n",
    "        for idx, word in enumerate(units):    numwords[word] = (1, idx)\n",
    "        for idx, word in enumerate(tens):     numwords[word] = (1, idx * 10)\n",
    "        for idx, word in enumerate(scales):   numwords[word] = (10 ** (idx * 3 or 2), 0)\n",
    "\n",
    "    #start at zero\n",
    "    current = result = 0\n",
    "    #we need to keep track of the words at the end of the string\n",
    "    tail = textnum.copy()\n",
    "    for word in textnum:\n",
    "        if word not in numwords:\n",
    "        #if the number is not a numeral convertable word:\n",
    "            if len(word.split('-')) > 1:  \n",
    "                for subword in word.split('-'):\n",
    "                #we know that there are multiple subwords that need to be sorted\n",
    "                    if subword not in numwords:\n",
    "                    #if the subword is not a number convertable word:\n",
    "                        if subword == word.split('-')[-1]:\n",
    "                        #if the subword is the last word in the hyphen sequence\n",
    "                            if len(tail)>1:\n",
    "                            #if there are still words left to walk through: \n",
    "                                tail.pop(0)\n",
    "                                #return the converted number if there were previous conversions and the rest of the converted string\n",
    "                                if result + current>0: return str(result + current) + '-' + subword + ' ' + text2int(tail, numwords)\n",
    "                                #else just return the word and the rest of the converted string\n",
    "                                else: return subword + ' ' + text2int(tail, numwords)\n",
    "\n",
    "                            else:\n",
    "                            #else we are at the end of the original string so just return the last piece\n",
    "                                #return the converted numerals if there were some before the current word\n",
    "                                if result + current >0: return str(result + current) + '-' + subword\n",
    "                                #else just return the last word\n",
    "                                else: return subword\n",
    "                        elif subword == word.split('-')[0]:\n",
    "                        #the subword is the first word in the sequence\n",
    "                            tail.pop(0)\n",
    "                            tail.insert(0, '-'.join(word.split('-')[1:]))\n",
    "                            if result + current>0: return str(result + current) + ' ' + subword + '-' + text2int(tail, numwords)\n",
    "                            #else just return the word and the rest of the converted string\n",
    "                            else: return subword + '-' + text2int(tail, numwords)\n",
    "                        else:\n",
    "                        #the subword is somewhere in the middle of the sequence\n",
    "                            tail.pop(0)\n",
    "                            idx = word.split('-').index(subword)\n",
    "                            tail.insert(0, '-'.join(word.split('-')[idx+1:]))\n",
    "                            if result + current>0: return str(result + current) + '-' + subword + '-' + text2int(tail, numwords)\n",
    "                            #else just return the word and the rest of the converted string\n",
    "                            else: return subword + '-' + text2int(tail, numwords)\n",
    "\n",
    "                    else:\n",
    "                    #in this case we have found number convertable words around a hyphen\n",
    "                        #find the numeral that corresponds to the subword\n",
    "                        scale, increment = numwords[subword]\n",
    "                        current = current * scale + increment\n",
    "                        if scale > 100:\n",
    "                            result += current\n",
    "                            current = 0\n",
    "                #this should only execute if both subwords are in number words   \n",
    "                tail.pop(0)\n",
    "            else:\n",
    "                if len(tail)>1: \n",
    "                    tail.pop(0)\n",
    "                    if result + current>0: return str(result + current) + ' ' + word + ' ' + text2int(tail, numwords)\n",
    "                    else: return word + ' ' + text2int(tail, numwords)\n",
    "                else: \n",
    "                    if result + current >0: return str(result + current) + ' ' + tail[0]\n",
    "                    else: return tail[0]\n",
    "            \n",
    "        elif word == 'and':\n",
    "        #if we run into an 'and' we have to be careful because if it is in the middle of a number we need to get rid of it\n",
    "        #otherwise we should ignore it\n",
    "            if result+current>0 and tail[0] in numwords:\n",
    "            #if and is in the middle of a number:\n",
    "                tail.pop(0)\n",
    "                scale, increment = numwords[word]\n",
    "                current = current * scale + increment\n",
    "                if scale > 100:\n",
    "                    result += current\n",
    "                    current = 0\n",
    "            else:\n",
    "            #'and' is not in the middle of a number:\n",
    "                #these next few lines should match the lines where subword not in numwords, refer there for extra comments\n",
    "                if len(tail)>1: \n",
    "                    tail.pop(0)\n",
    "                    if result + current>0: return str(result + current) + ' ' + word + ' ' + text2int(tail, numwords)\n",
    "                    else: return word + ' ' + text2int(tail, numwords)\n",
    "                else: \n",
    "                    if result + current >0: return str(result + current) + ' ' + tail[0]\n",
    "                    else: return tail[0]\n",
    "        else:\n",
    "        #if word is in numwords:\n",
    "            #we effectively remove it from the string by removing it from tail\n",
    "            tail.pop(0)\n",
    "            #we then increment our numeral\n",
    "            scale, increment = numwords[word]\n",
    "            current = current * scale + increment\n",
    "            if scale > 100:\n",
    "                result += current\n",
    "                current = 0\n",
    "    \n",
    "    #again I think this only executes if word is in numwords\n",
    "    if len(tail) > 0:\n",
    "        return str(result + current) + ' ' + text2int(tail, numwords)\n",
    "    else: return str(result + current)\n",
    "\n",
    "def Num_to_Num(string, numwords={}):\n",
    "    '''This function takes in a string as input and returns the string with all plain english numbers changed to numerals\n",
    "    It replaces the words thousand, million, and bilion with K, M, and B respectively\n",
    "    '''\n",
    "    #we define numwords here without the thousand, million, etc because we will convert those to K, M, etc\n",
    "    if not numwords:\n",
    "        units = [\n",
    "        \"zero\", \"one\", \"two\", \"three\", \"four\", \"five\", \"six\", \"seven\", \"eight\",\n",
    "        \"nine\", \"ten\", \"eleven\", \"twelve\", \"thirteen\", \"fourteen\", \"fifteen\",\n",
    "        \"sixteen\", \"seventeen\", \"eighteen\", \"nineteen\",\n",
    "        ]\n",
    "\n",
    "        tens = [\"twenty\", \"thirty\", \"forty\", \"fifty\", \"sixty\", \"seventy\", \"eighty\", \"ninety\"]\n",
    "\n",
    "        scales = [\"hundred\"]\n",
    "\n",
    "        numwords[\"and\"] = (1, 0)\n",
    "        for idx, word in enumerate(units):    numwords[word] = (1, idx)\n",
    "        for idx, word in enumerate(tens):     numwords[word] = (1, (idx+2) * 10)\n",
    "        for idx, word in enumerate(scales):   numwords[word] = (10 ** (idx * 3 or 2), 0)\n",
    "    \n",
    "    #the number converter has trouble with zeros, so we do those manually\n",
    "    string = string.replace('zero', '0')\n",
    "    #split the string into a list\n",
    "    split_string = string.split()\n",
    "    #run the converter\n",
    "    string = text2int(split_string, numwords)\n",
    "\n",
    "    #replace large magnitude descriptors with appropriate abbreviations\n",
    "    string = string.replace(' thousand', 'K')\n",
    "    string = string.replace(' million', 'M')\n",
    "    string = string.replace(' billion', 'B')\n",
    "    return string\n",
    "Num_to_Num(\"- man army\")"
   ]
  },
  {
   "cell_type": "code",
   "execution_count": 12,
   "metadata": {},
   "outputs": [
    {
     "data": {
      "text/plain": [
       "1"
      ]
     },
     "execution_count": 12,
     "metadata": {},
     "output_type": "execute_result"
    }
   ],
   "source": [
    "import numpy as np\n",
    "ls = ['asdf', 'jj', 'jkj']\n",
    "ls.index('jj')"
   ]
  },
  {
   "cell_type": "code",
   "execution_count": 11,
   "metadata": {},
   "outputs": [
    {
     "data": {
      "text/plain": [
       "'100%; $0 saved for our 45 member squad'"
      ]
     },
     "execution_count": 11,
     "metadata": {},
     "output_type": "execute_result"
    }
   ],
   "source": [
    "import re\n",
    "\n",
    "def Common_Sub(string):\n",
    "    '''This function substitutes common symbols (%, $) for the words they represent'''\n",
    "    #replace percent with '%'\n",
    "    string = string.replace(' percent', '%')\n",
    "    #replace '___ dollars' with '$___'\n",
    "    string = re.sub(r'(\\w+) [Dd]ollars', r'$\\1', string)\n",
    "    #when a number is an adjective put a hyphen (such as 45-member)\n",
    "    #string = re.sub(r'( [0-9]+) (\\w+[^s] )', r'\\1-\\2', string)\n",
    "    return string\n",
    "Common_Sub('100 percent; 0 dollars saved for our 45 member squad')"
   ]
  },
  {
   "cell_type": "code",
   "execution_count": 12,
   "metadata": {},
   "outputs": [
    {
     "data": {
      "text/plain": [
       "'- Airlifted 1K troops; improved fuel flow by 50%, and saved $100K for 45 men on our squad'"
      ]
     },
     "execution_count": 12,
     "metadata": {},
     "output_type": "execute_result"
    }
   ],
   "source": [
    "def Substitutions(string):\n",
    "    '''This function performs basic substitutions on strings according to the AMC writer's guidance. \n",
    "    '''\n",
    "    string = string[0].upper() + string[1:]\n",
    "    string = '- ' + string\n",
    "    string = Num_to_Num(string)\n",
    "    string = Common_Sub(string)\n",
    "    return string\n",
    "Substitutions(\"Airlifted one thousand troops; improved fuel flow by 50 percent, and saved one hundred thousand dollars for 45 men on our squad\")"
   ]
  },
  {
   "cell_type": "code",
   "execution_count": 18,
   "metadata": {},
   "outputs": [
    {
     "data": {
      "text/plain": [
       "'$billion'"
      ]
     },
     "execution_count": 18,
     "metadata": {},
     "output_type": "execute_result"
    }
   ],
   "source": [
    "re.sub(r'(\\w+) dollars', r'$\\1', 'billion dollars')"
   ]
  },
  {
   "cell_type": "code",
   "execution_count": 21,
   "metadata": {},
   "outputs": [
    {
     "data": {
      "text/plain": [
       "8.6"
      ]
     },
     "execution_count": 21,
     "metadata": {},
     "output_type": "execute_result"
    }
   ],
   "source": [
    "import tkinter\n",
    "tkinter.TkVersion"
   ]
  },
  {
   "cell_type": "code",
   "execution_count": 17,
   "metadata": {
    "scrolled": true
   },
   "outputs": [
    {
     "ename": "TclError",
     "evalue": "can't invoke \"destroy\" command: application has been destroyed",
     "output_type": "error",
     "traceback": [
      "\u001b[1;31m---------------------------------------------------------------------------\u001b[0m",
      "\u001b[1;31mTclError\u001b[0m                                  Traceback (most recent call last)",
      "\u001b[1;32m<ipython-input-17-81f5e173e327>\u001b[0m in \u001b[0;36m<module>\u001b[1;34m()\u001b[0m\n\u001b[0;32m     32\u001b[0m \u001b[1;33m\u001b[0m\u001b[0m\n\u001b[0;32m     33\u001b[0m \u001b[0mroot\u001b[0m\u001b[1;33m.\u001b[0m\u001b[0mmainloop\u001b[0m\u001b[1;33m(\u001b[0m\u001b[1;33m)\u001b[0m\u001b[1;33m\u001b[0m\u001b[0m\n\u001b[1;32m---> 34\u001b[1;33m \u001b[0mroot\u001b[0m\u001b[1;33m.\u001b[0m\u001b[0mdestroy\u001b[0m\u001b[1;33m(\u001b[0m\u001b[1;33m)\u001b[0m \u001b[1;31m# optional; see description below\u001b[0m\u001b[1;33m\u001b[0m\u001b[0m\n\u001b[0m",
      "\u001b[1;32mC:\\Users\\riversj\\Anaconda3\\envs\\data-x\\lib\\tkinter\\__init__.py\u001b[0m in \u001b[0;36mdestroy\u001b[1;34m(self)\u001b[0m\n\u001b[0;32m   2054\u001b[0m         end the application of this Tcl interpreter.\"\"\"\n\u001b[0;32m   2055\u001b[0m         \u001b[1;32mfor\u001b[0m \u001b[0mc\u001b[0m \u001b[1;32min\u001b[0m \u001b[0mlist\u001b[0m\u001b[1;33m(\u001b[0m\u001b[0mself\u001b[0m\u001b[1;33m.\u001b[0m\u001b[0mchildren\u001b[0m\u001b[1;33m.\u001b[0m\u001b[0mvalues\u001b[0m\u001b[1;33m(\u001b[0m\u001b[1;33m)\u001b[0m\u001b[1;33m)\u001b[0m\u001b[1;33m:\u001b[0m \u001b[0mc\u001b[0m\u001b[1;33m.\u001b[0m\u001b[0mdestroy\u001b[0m\u001b[1;33m(\u001b[0m\u001b[1;33m)\u001b[0m\u001b[1;33m\u001b[0m\u001b[0m\n\u001b[1;32m-> 2056\u001b[1;33m         \u001b[0mself\u001b[0m\u001b[1;33m.\u001b[0m\u001b[0mtk\u001b[0m\u001b[1;33m.\u001b[0m\u001b[0mcall\u001b[0m\u001b[1;33m(\u001b[0m\u001b[1;34m'destroy'\u001b[0m\u001b[1;33m,\u001b[0m \u001b[0mself\u001b[0m\u001b[1;33m.\u001b[0m\u001b[0m_w\u001b[0m\u001b[1;33m)\u001b[0m\u001b[1;33m\u001b[0m\u001b[0m\n\u001b[0m\u001b[0;32m   2057\u001b[0m         \u001b[0mMisc\u001b[0m\u001b[1;33m.\u001b[0m\u001b[0mdestroy\u001b[0m\u001b[1;33m(\u001b[0m\u001b[0mself\u001b[0m\u001b[1;33m)\u001b[0m\u001b[1;33m\u001b[0m\u001b[0m\n\u001b[0;32m   2058\u001b[0m         \u001b[1;32mglobal\u001b[0m \u001b[0m_default_root\u001b[0m\u001b[1;33m\u001b[0m\u001b[0m\n",
      "\u001b[1;31mTclError\u001b[0m: can't invoke \"destroy\" command: application has been destroyed"
     ]
    }
   ],
   "source": [
    "from tkinter import *\n",
    "class App:\n",
    "\n",
    "    def __init__(self, master):\n",
    "\n",
    "        frame = Frame(master)\n",
    "        frame.pack()\n",
    "\n",
    "        self.button = Button(\n",
    "            frame, text=\"QUIT\", fg=\"red\", command=frame.quit\n",
    "            )\n",
    "        self.button.grid(row=3)\n",
    "\n",
    "        self.con_but = Button(frame, text=\"Convert\", command=self.convert)\n",
    "        self.con_but.grid(row=3, column=1)\n",
    "        \n",
    "        self.entrybox = Entry(frame, width=100)\n",
    "        self.entrybox.grid(row=1, columnspan=2)\n",
    "        \n",
    "        self.converted_text = Entry(frame, width=100)\n",
    "        self.converted_text.grid(row=2, columnspan=2)\n",
    "\n",
    "    def convert(self):\n",
    "        string = self.entrybox.get()\n",
    "        string = Substitutions(string)\n",
    "        self.converted_text.delete(0, END)\n",
    "        self.converted_text.insert(0, string)\n",
    "\n",
    "root = Tk()\n",
    "\n",
    "app = App(root)\n",
    "\n",
    "root.mainloop()\n",
    "root.destroy() # optional; see description below"
   ]
  },
  {
   "cell_type": "code",
   "execution_count": 3,
   "metadata": {
    "collapsed": true
   },
   "outputs": [],
   "source": [
    "abb_forwards = {'and':'&', \n",
    "'less than':'<', \n",
    "'greater than':'>', \n",
    "'twice':'2x', \n",
    "'aircraft commander':'AC', \n",
    "'aircraft':'acft', \n",
    "'airfield':'afld', \n",
    "'airlift':'alft', \n",
    "'average':'avg', \n",
    "'award':'awd', \n",
    "'billion':'B', \n",
    "'board':'bd', \n",
    "'branch':'Br', \n",
    "'briefs':'brfs', \n",
    "'between':'btwn', \n",
    "'commanded':'CC\\'d', \n",
    "'cargo':'cgo', \n",
    "'chief':'Ch', \n",
    "'checklist':'cklst', \n",
    "'MAJCOM/NAF':'Cmd', \n",
    "'committee':'cmte', \n",
    "'central':'cntrl', \n",
    "'coordinate':'coord', \n",
    "'coordinated':'coord\\'d', \n",
    "'course':'crs', \n",
    "'center':'ctr', \n",
    "'Deputy':'Dep', \n",
    "'department':'dept', \n",
    "'emergency':'emer', \n",
    "'equipment':'eqpmt', \n",
    "'evaluation':'eval', \n",
    "'flight':'flt', \n",
    "'Flight':'Flt', \n",
    "'feet':'ft',  \n",
    "'graduate':'grad', \n",
    "'government':'gov\\'t', \n",
    "'high visibility':'hi-vis', \n",
    "'hours':'hrs', \n",
    "'identified':'ID\\'d', \n",
    "'indoctrination':'indoc', \n",
    "'inspection':'insp', \n",
    "'international':'int\\'l', \n",
    "'thousands':'K', \n",
    "'Lieutenant':'Lt', \n",
    "'leader':'ldr', \n",
    "'leadership':'ldrshp', \n",
    "'million':'M', \n",
    "'maximum':'max', \n",
    "'member':'mbr', \n",
    "'medical':'med', \n",
    "'medical evacuation':'medevac', \n",
    "'management':'mgmt', \n",
    "'month':'mo', \n",
    "'months':'mos', \n",
    "'mission':'msn', \n",
    "'mission commander':'Msn/CC', \n",
    "'multinational':'multinat\\'l', \n",
    "'multiservice':'multisvc', \n",
    "'maintenance':'mx', \n",
    "'national':'nat\\'l', \n",
    "'nomination':'nom', \n",
    "'Captain':'O-3', \n",
    "'officer':'ofcr', \n",
    "'operations':'ops', \n",
    "'Operations':'Ops', \n",
    "'passengers':'pax', \n",
    "'personnel':'prsnl', \n",
    "'program':'pgm', \n",
    "'package':'pkg', \n",
    "'plan':'pln', \n",
    "'planning':'plng', \n",
    "'planner':'plnr', \n",
    "'pilot':'plt', \n",
    "'population':'pop', \n",
    "'practice':'prac', \n",
    "'preparation':'prep', \n",
    "'President':'Pres', \n",
    "'project':'proj', \n",
    "'publications':'pubs', \n",
    "'quarter':'qtr', \n",
    "'quarterly':'qtrly', \n",
    "'receivers':'rcvrs', \n",
    "'ready':'rdy', \n",
    "'resolution':'res', \n",
    "'response':'resp', \n",
    "'requirements':'rqmts', \n",
    "'runway':'rwy', \n",
    "'runways':'rwys', \n",
    "'select Spec':'sel', \n",
    "'special Operations':'Ops', \n",
    "'support':'spt', \n",
    "'senior':'sr', \n",
    "'standardization':'stan', \n",
    "'standard':'std', \n",
    "'surgery':'surg', \n",
    "'service':'svc', \n",
    "'services squadron':'svs', \n",
    "'savings':'svgs', \n",
    "'system':'sys', \n",
    "'tactical':'tac', \n",
    "'technical':'tech', \n",
    "'through':'thru', \n",
    "'target':'tgt', \n",
    "'team':'tm', \n",
    "'training':'tng', \n",
    "'tanker':'tnkr', \n",
    "'week':'wk', \n",
    "'weekly':'wkly', \n",
    "'weather':'wx', \n",
    "'with':'w/', \n",
    "'year':'yr', \n",
    "'advancement':'advncmnt', \n",
    "'additional':'add\\'l', \n",
    "'advisor':'advsr', \n",
    "'aeromedical evacuation':'aeromed evac', \n",
    "'aircraft':'acft', \n",
    "'air evacuation':'AIREVAC', \n",
    "'airfield':'afld', \n",
    "'airlift':'alft', \n",
    "'approve':'apprv', \n",
    "'approved':'apprv\\'d', \n",
    "'airfield':'afld', \n",
    "'assessment':'assmnt', \n",
    "'assign':'asgn', \n",
    "'assignment':'asgnmt', \n",
    "'assist':'asst', \n",
    "'assisted':'asst\\'d', \n",
    "'association':'assoc', \n",
    "'authorized':'auth', \n",
    "'award':'awd', \n",
    "'between':'btwn', \n",
    "'cannibalization':'CANN', \n",
    "'casualty report':'CASREP', \n",
    "'center':'ctr', \n",
    "'certification':'cert', \n",
    "'certified':'cert\\'d', \n",
    "'CGO of the Quarter':'CGOQ', \n",
    "'CGO of the Year':'CGOY', \n",
    "'change':'chg',  \n",
    "'civilian':'civ', \n",
    "'clearance':'clrnc', \n",
    "'combat':'cmbt', \n",
    "'command':'cmd', \n",
    "'commander':'CC', \n",
    "'control':'ctrl', \n",
    "'coordinate':'coord', \n",
    "'course':'crs', \n",
    "'crewmembers':'crewmbrs', \n",
    "'decision':'dcsn', \n",
    "'delivered':'dlvr\\'d', \n",
    "'develop':'dvlp', \n",
    "'development':'dvlpmnt', \n",
    "'division':'div', \n",
    "'double':'dbl', \n",
    "'Etcetera':'etc', \n",
    "'engines':'engs', \n",
    "'engineer':'engnr', \n",
    "'enlisted':'enl', \n",
    "'environment':'enviro', \n",
    "'excellence':'excel', \n",
    "'exercise':'ex', \n",
    "'estimate':'est', \n",
    "'evaluation':'eval', \n",
    "'flight':'flt', \n",
    "'Flight':'Flt', \n",
    "'field':'fld', \n",
    "'Fiscal Year':'FY', \n",
    "'forward':'fwd', \n",
    "'ground':'grnd', \n",
    "'group':'gp', \n",
    "'headquarters':'HQ', \n",
    "'heavy':'hvy', \n",
    "'highway':'hwy', \n",
    "'hours':'hrs', \n",
    "'hurricane evacuation':'HUREVAC', \n",
    "'identify':'ID', \n",
    "'indoctrination':'indoc', \n",
    "'inspection':'insp', \n",
    "'instructor':'instr', \n",
    "'international':'int\\'l', \n",
    "'Joint':'Jnt', \n",
    "'Junior Company Grade Officer':'Jr CGO', \n",
    "'leader':'ldr', \n",
    "'leadership':'ldrshp', \n",
    "'letter':'ltr', \n",
    "'level':'lvl', \n",
    "'maintenance':'mx', \n",
    "'malfunction':'malfunc', \n",
    "'manage':'mng', \n",
    "'managed':'mng\\'d', \n",
    "'manager':'mgr', \n",
    "'management':'mgmt', \n",
    "'manpower':'mnpwr', \n",
    "'maximum':'max', \n",
    "'member':'mbr', \n",
    "'members':'mbrs', \n",
    "'message':'msg', \n",
    "'mission':'msn', \n",
    "'month':'mo', \n",
    "'months':'mos', \n",
    "'movement':'mvmt', \n",
    "'national':'nat\\'l', \n",
    "'navigator':'nav', \n",
    "'officer':'ofcr', \n",
    "'on or about':'o/a', \n",
    "'operations':'ops', \n",
    "'opportunity':'opp', \n",
    "'opportunities':'opps', \n",
    "'organization':'org', \n",
    "'package':'pkg', \n",
    "'passenger':'PAX', \n",
    "'patient':'pt', \n",
    "'personnel':'prsnl', \n",
    "'pilot':'plt', \n",
    "'Plan':'pln', \n",
    "'position':'psn', \n",
    "'power':'pwr', \n",
    "'process':'prcs', \n",
    "'processed':'prcs\\'d', \n",
    "'professional':'prof', \n",
    "'program':'pgm', \n",
    "'project':'proj',  \n",
    "'projected':'prjct\\'d', \n",
    "'promotion':'promo', \n",
    "'promotions':'promos', \n",
    "'quality':'qual', \n",
    "'quality of life':'QoL', \n",
    "'quarter':'qtr', \n",
    "'quarterly':'qtrly', \n",
    "'ready':'rdy', \n",
    "'received':'rcvd', \n",
    "'recommendation':'rec', \n",
    "'record':'rcrd', \n",
    "'report':'rpt', \n",
    "'reporting':'rpt\\'g', \n",
    "'reported':'rpt\\'d', \n",
    "'representative':'rep', \n",
    "'requalify':'requal', \n",
    "'requirement':'rqmt', \n",
    "'requirements':'rqmts', \n",
    "'review':'rvw', \n",
    "'reviewed':'rvw\\'d', \n",
    "'schedule':'sched', \n",
    "'Secretary of Defense':'SecDef', \n",
    "'Senior Company Grade Officer':'Sr CGO', \n",
    "'service':'svc', \n",
    "'services':'svcs', \n",
    "'simulator':'sim', \n",
    "'special operations':'Spec Ops', \n",
    "'squadron':'sq', \n",
    "'staff':'staff', \n",
    "'standard':'std', \n",
    "'Standardization and Evaluation':'stan/eval', \n",
    "'support':'spt', \n",
    "'supported':'spt\\'d', \n",
    "'system':'sys', \n",
    "'target':'tgt', \n",
    "'team':'tm', \n",
    "'trained':'trn\\'d', \n",
    "'training':'tng', \n",
    "'transfer':'xfer', \n",
    "'travel':'tvl', \n",
    "'university':'univ', \n",
    "'vehicle':'veh', \n",
    "'visibility':'vis', \n",
    "'weapon':'wpn', \n",
    "'wing':'wg', \n",
    "'with':'w/', \n",
    "'without':'w/o', \n",
    "'within':'w/in', \n",
    "'working':'wrk\\'g', \n",
    "'worked':'wrk\\'d', \n",
    "'yard':'yrd', \n",
    "'yards':'yrds', \n",
    "'year':'yr'}"
   ]
  },
  {
   "cell_type": "code",
   "execution_count": 4,
   "metadata": {
    "collapsed": true
   },
   "outputs": [],
   "source": [
    "def Abb_Replace(string, start=0):\n",
    "    '''This function replaces words in the input string with abbreviations from the abb_forward dictionary'''\n",
    "\n",
    "    split_string = string.split()\n",
    "\n",
    "    #Compares the words from the string to the abb_forwards dictionary\n",
    "    #If one of the words is in the dictionary it replaces it and exits\n",
    "    output = []\n",
    "    i=start\n",
    "    for x in split_string[start:]:\n",
    "        i+=1\n",
    "        if x in abb_forwards:\n",
    "            new_string = string.replace(x, abb_forwards[x])\n",
    "            output = output + Abb_Replace(new_string, i)\n",
    "        \n",
    "    output.append(string)\n",
    "    return output"
   ]
  },
  {
   "cell_type": "code",
   "execution_count": 8,
   "metadata": {},
   "outputs": [
    {
     "data": {
      "text/plain": [
       "['greater than mvmt fireteam ft',\n",
       " 'greater than mvmt fireteam feet',\n",
       " 'greater than movement fireteam ft',\n",
       " 'greater than movement fireteam feet']"
      ]
     },
     "execution_count": 8,
     "metadata": {},
     "output_type": "execute_result"
    }
   ],
   "source": [
    "Abb_Replace('greater than movement fireteam feet')"
   ]
  },
  {
   "cell_type": "code",
   "execution_count": 68,
   "metadata": {},
   "outputs": [
    {
     "name": "stdout",
     "output_type": "stream",
     "text": [
      "100000 loops, best of 3: 13.9 µs per loop\n"
     ]
    }
   ],
   "source": [
    "%timeit(Abb_Replace('greater than movement yard feet'))"
   ]
  },
  {
   "cell_type": "code",
   "execution_count": 4,
   "metadata": {},
   "outputs": [
    {
     "name": "stdout",
     "output_type": "stream",
     "text": [
      "0\n",
      "1\n",
      "2\n",
      "3\n",
      "4\n",
      "4\n"
     ]
    }
   ],
   "source": [
    "for i in range(5):\n",
    "    print(i)\n",
    "print(i)"
   ]
  },
  {
   "cell_type": "code",
   "execution_count": null,
   "metadata": {
    "collapsed": true
   },
   "outputs": [],
   "source": []
  }
 ],
 "metadata": {
  "kernelspec": {
   "display_name": "Python 3",
   "language": "python",
   "name": "python3"
  },
  "language_info": {
   "codemirror_mode": {
    "name": "ipython",
    "version": 3
   },
   "file_extension": ".py",
   "mimetype": "text/x-python",
   "name": "python",
   "nbconvert_exporter": "python",
   "pygments_lexer": "ipython3",
   "version": "3.6.1"
  }
 },
 "nbformat": 4,
 "nbformat_minor": 2
}
