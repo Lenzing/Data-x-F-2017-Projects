{
 "cells": [
  {
   "cell_type": "code",
   "execution_count": 1,
   "metadata": {
    "collapsed": true
   },
   "outputs": [],
   "source": [
    "import sqlite3\n",
    "import pandas as pd"
   ]
  },
  {
   "cell_type": "code",
   "execution_count": 2,
   "metadata": {
    "collapsed": true
   },
   "outputs": [],
   "source": [
    "def intodb (entry, output, db = 'database'):\n",
    "    '''\n",
    "    Adds entries of user input and user-chosen, system-generated output into a SQL database.\n",
    "    entry: user input (str)\n",
    "    output: user output (str)\n",
    "    db: default is 'database.db', otherwise, state database NAME\n",
    "    '''\n",
    "    connection = sqlite3.connect(db + '.db')\n",
    "    cursor = connection.cursor()\n",
    "    \n",
    "    #Creates the table within the db if it does not exist\n",
    "    cursor.execute('CREATE TABLE IF NOT EXISTS entries (input,output);')\n",
    "    \n",
    "    #Inserts input and output into the table\n",
    "    sql_command= 'INSERT INTO entries (input, output) VALUES (\"{input1}\", \"{output}\");'\n",
    "    cursor.execute(sql_command.format(input1 = entry, output = output))\n",
    "    connection.commit() \n",
    "    connection.close()"
   ]
  }
 ],
 "metadata": {
  "kernelspec": {
   "display_name": "Python 3",
   "language": "python",
   "name": "python3"
  },
  "language_info": {
   "codemirror_mode": {
    "name": "ipython",
    "version": 3
   },
   "file_extension": ".py",
   "mimetype": "text/x-python",
   "name": "python",
   "nbconvert_exporter": "python",
   "pygments_lexer": "ipython3",
   "version": "3.6.3"
  }
 },
 "nbformat": 4,
 "nbformat_minor": 2
}
