{
 "cells": [
  {
   "cell_type": "code",
   "execution_count": 1,
   "metadata": {},
   "outputs": [],
   "source": []
  },
  {
   "cell_type": "code",
   "execution_count": 26,
   "metadata": {
    "collapsed": true
   },
   "outputs": [],
   "source": [
    "import pandas as pd\n",
    "chartbl = pd.read_excel('CharSizes.xlsx', header=None, dtype = str)"
   ]
  },
  {
   "cell_type": "code",
   "execution_count": 32,
   "metadata": {
    "collapsed": true
   },
   "outputs": [],
   "source": [
    "chardict = dict([(chartbl.loc[:,0][i], float(chartbl.loc[:,1][i])) for i in range(len(chartbl))])"
   ]
  },
  {
   "cell_type": "code",
   "execution_count": 33,
   "metadata": {
    "collapsed": true,
    "scrolled": true
   },
   "outputs": [],
   "source": [
    "def calc_str_len(string):\n",
    "    tot_len = 0\n",
    "    for char in string:\n",
    "        tot_len += chardict[char]\n",
    "    return(tot_len)"
   ]
  },
  {
   "cell_type": "code",
   "execution_count": 48,
   "metadata": {},
   "outputs": [
    {
     "name": "stdout",
     "output_type": "stream",
     "text": [
      "570.6600000000002\n",
      "577.9200000000018\n"
     ]
    }
   ],
   "source": [
    "print(calc_str_len('mmmmmmmmmmmmmmmmmmmmmmmmmmmmmmmmmmmmmmmmmmmmmmmmmmmmmmmmmmmmmi'))\n",
    "print(calc_str_len('iiiiiiiiiiiiiiiiiiiiiiiiiiiiiiiiiiiiiiiiiiiiiiiiiiiiiiiiiiiiiiiiiiiiiiiiiiiiiiiiiiiiiiiiiiiiiiiiiiiiiiiiiiiiiiiiiiiiiiiiiiiiiiiiiiiiiiiiiiiiiiiiiiiiiiiiiiiiiiiiiiiiiiiiiiii'))"
   ]
  },
  {
   "cell_type": "code",
   "execution_count": 41,
   "metadata": {},
   "outputs": [
    {
     "data": {
      "text/plain": [
       "3.36"
      ]
     },
     "execution_count": 41,
     "metadata": {},
     "output_type": "execute_result"
    }
   ],
   "source": [
    "calc_str_len('i')"
   ]
  },
  {
   "cell_type": "code",
   "execution_count": 40,
   "metadata": {},
   "outputs": [
    {
     "data": {
      "text/plain": [
       "(array([ 2.,  0.,  1.,  0.,  1.,  1.,  3.,  0.,  2.,  0.,  1.,  1.,  1.,\n",
       "         1.,  3.,  0.,  1.,  1.,  2.,  1.,  1.,  4.,  2.,  0.,  1.,  0.,\n",
       "         0.,  0.,  0.,  2.]),\n",
       " array([ 567.06 ,  567.366,  567.672,  567.978,  568.284,  568.59 ,\n",
       "         568.896,  569.202,  569.508,  569.814,  570.12 ,  570.426,\n",
       "         570.732,  571.038,  571.344,  571.65 ,  571.956,  572.262,\n",
       "         572.568,  572.874,  573.18 ,  573.486,  573.792,  574.098,\n",
       "         574.404,  574.71 ,  575.016,  575.322,  575.628,  575.934,  576.24 ]),\n",
       " <a list of 30 Patch objects>)"
      ]
     },
     "execution_count": 40,
     "metadata": {},
     "output_type": "execute_result"
    },
    {
     "data": {
      "image/png": "[encoded data removed]",
      "text/plain": [
       "<matplotlib.figure.Figure at 0x215616f5f98>"
      ]
     },
     "metadata": {},
     "output_type": "display_data"
    }
   ],
   "source": [
    "import matplotlib.pyplot as plt\n",
    "%matplotlib inline\n",
    "ExBul = open(\"ExampleBullets.txt\", 'r')\n",
    "bullets = ExBul.readlines()\n",
    "bullen = []\n",
    "for i,bull in enumerate(bullets):\n",
    "    if i == len(bullets)-1:\n",
    "        bullen.append(calc_str_len(bull))\n",
    "    else:\n",
    "        bullen.append(calc_str_len(bull[:-1]))\n",
    "plt.hist(bullen, bins=30)"
   ]
  },
  {
   "cell_type": "code",
   "execution_count": 52,
   "metadata": {},
   "outputs": [
    {
     "data": {
      "text/plain": [
       "567.0600000000002"
      ]
     },
     "execution_count": 52,
     "metadata": {},
     "output_type": "execute_result"
    }
   ],
   "source": [
    "min(bullen)"
   ]
  },
  {
   "cell_type": "markdown",
   "metadata": {
    "collapsed": true
   },
   "source": [
    "## Conclusions\n",
    "Based on these results I think a range of 565-576 might be reasonable for lengths. Obviously there may occasionaly be bullets longer than this that will still fit, but I don't think it will happen often. The lower limit might be too low, but it's hard for me to gauge right now. Steve's examples all seem pretty close to the limit, and I'm not sure whether this is typical or not. If so, the lower limit may be too low."
   ]
  },
  {
   "cell_type": "code",
   "execution_count": null,
   "metadata": {
    "collapsed": true
   },
   "outputs": [],
   "source": [
    "import pandas as pd\n",
    "#read excel file with character sizes for Times 12pt font\n",
    "chartbl = pd.read_excel('CharSizes.xlsx', header=None, dtype = str)\n",
    "#create a dictionary for fast lookups\n",
    "chardict = dict([(chartbl.loc[:,0][i], float(chartbl.loc[:,1][i])) for i in range(len(chartbl))])\n",
    "#define the funciton that will return length of string in Times 12\n",
    "def calc_str_len(string):\n",
    "    '''Function takes string as input and returns the length of the string when rendered in Times 12pt font in MS word or pdf'''\n",
    "    tot_len = 0\n",
    "    for char in string:\n",
    "        tot_len += chardict[char]\n",
    "    return(tot_len) #should probably be in [565, 576] range"
   ]
  }
 ],
 "metadata": {
  "kernelspec": {
   "display_name": "Python 3",
   "language": "python",
   "name": "python3"
  },
  "language_info": {
   "codemirror_mode": {
    "name": "ipython",
    "version": 3
   },
   "file_extension": ".py",
   "mimetype": "text/x-python",
   "name": "python",
   "nbconvert_exporter": "python",
   "pygments_lexer": "ipython3",
   "version": "3.6.1"
  }
 },
 "nbformat": 4,
 "nbformat_minor": 2
}
