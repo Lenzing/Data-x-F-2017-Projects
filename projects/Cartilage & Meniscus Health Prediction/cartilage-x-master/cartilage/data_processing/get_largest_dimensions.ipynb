{
 "cells": [
  {
   "cell_type": "markdown",
   "metadata": {},
   "source": [
    "# Finding largest bounding box\n",
    "\n",
    "\n",
    "**The information is used to guide selectino of input dimensions **"
   ]
  },
  {
   "cell_type": "markdown",
   "metadata": {},
   "source": [
    "**Set everything up:**"
   ]
  },
  {
   "cell_type": "code",
   "execution_count": 2,
   "metadata": {},
   "outputs": [],
   "source": [
    "import os\n",
    "import math\n",
    "import numpy as np\n",
    "import pandas as pd\n",
    "import scipy.io as spio\n",
    "\n",
    "from six.moves import cPickle as pickle"
   ]
  },
  {
   "cell_type": "code",
   "execution_count": 3,
   "metadata": {},
   "outputs": [],
   "source": [
    "data_root = '/data/bigbone4/ciriondo/'\n",
    "#data_root = os.getcwd()\n",
    "\n",
    "csv_dir = os.path.join(data_root, 'clean_all_path.csv')  # change for server"
   ]
  },
  {
   "cell_type": "markdown",
   "metadata": {},
   "source": [
    "**Import batch list:**"
   ]
  },
  {
   "cell_type": "code",
   "execution_count": 5,
   "metadata": {},
   "outputs": [
    {
     "data": {
      "text/html": [
       "<div>\n",
       "<style scoped>\n",
       "    .dataframe tbody tr th:only-of-type {\n",
       "        vertical-align: middle;\n",
       "    }\n",
       "\n",
       "    .dataframe tbody tr th {\n",
       "        vertical-align: top;\n",
       "    }\n",
       "\n",
       "    .dataframe thead th {\n",
       "        text-align: right;\n",
       "    }\n",
       "</style>\n",
       "<table border=\"1\" class=\"dataframe\">\n",
       "  <thead>\n",
       "    <tr style=\"text-align: right;\">\n",
       "      <th></th>\n",
       "      <th>mriFile</th>\n",
       "      <th>segFile</th>\n",
       "      <th>mfcWorms</th>\n",
       "      <th>lfcWorms</th>\n",
       "      <th>mfcBME</th>\n",
       "      <th>lfcBME</th>\n",
       "      <th>patient</th>\n",
       "    </tr>\n",
       "  </thead>\n",
       "  <tbody>\n",
       "    <tr>\n",
       "      <th>0</th>\n",
       "      <td>/data/bigbone4/DeepLearning_temp/Data/all_CUBE...</td>\n",
       "      <td>/data/bigbone4/DeepLearning_temp/Data/all_CUBE...</td>\n",
       "      <td>0.0</td>\n",
       "      <td>0.0</td>\n",
       "      <td>0</td>\n",
       "      <td>0</td>\n",
       "      <td>P052</td>\n",
       "    </tr>\n",
       "    <tr>\n",
       "      <th>1</th>\n",
       "      <td>/data/bigbone4/DeepLearning_temp/Data/all_CUBE...</td>\n",
       "      <td>/data/bigbone4/DeepLearning_temp/Data/all_CUBE...</td>\n",
       "      <td>0.0</td>\n",
       "      <td>0.0</td>\n",
       "      <td>0</td>\n",
       "      <td>0</td>\n",
       "      <td>P052</td>\n",
       "    </tr>\n",
       "    <tr>\n",
       "      <th>2</th>\n",
       "      <td>/data/bigbone4/DeepLearning_temp/Data/all_CUBE...</td>\n",
       "      <td>/data/bigbone4/DeepLearning_temp/Data/all_CUBE...</td>\n",
       "      <td>0.0</td>\n",
       "      <td>0.0</td>\n",
       "      <td>0</td>\n",
       "      <td>0</td>\n",
       "      <td>P052</td>\n",
       "    </tr>\n",
       "    <tr>\n",
       "      <th>3</th>\n",
       "      <td>/data/bigbone4/DeepLearning_temp/Data/all_CUBE...</td>\n",
       "      <td>/data/bigbone4/DeepLearning_temp/Data/all_CUBE...</td>\n",
       "      <td>0.0</td>\n",
       "      <td>0.0</td>\n",
       "      <td>0</td>\n",
       "      <td>0</td>\n",
       "      <td>P052</td>\n",
       "    </tr>\n",
       "    <tr>\n",
       "      <th>4</th>\n",
       "      <td>/data/bigbone4/DeepLearning_temp/Data/all_CUBE...</td>\n",
       "      <td>/data/bigbone4/DeepLearning_temp/Data/all_CUBE...</td>\n",
       "      <td>2.5</td>\n",
       "      <td>1.0</td>\n",
       "      <td>0</td>\n",
       "      <td>0</td>\n",
       "      <td>P122</td>\n",
       "    </tr>\n",
       "  </tbody>\n",
       "</table>\n",
       "</div>"
      ],
      "text/plain": [
       "                                             mriFile  \\\n",
       "0  /data/bigbone4/DeepLearning_temp/Data/all_CUBE...   \n",
       "1  /data/bigbone4/DeepLearning_temp/Data/all_CUBE...   \n",
       "2  /data/bigbone4/DeepLearning_temp/Data/all_CUBE...   \n",
       "3  /data/bigbone4/DeepLearning_temp/Data/all_CUBE...   \n",
       "4  /data/bigbone4/DeepLearning_temp/Data/all_CUBE...   \n",
       "\n",
       "                                             segFile  mfcWorms  lfcWorms  \\\n",
       "0  /data/bigbone4/DeepLearning_temp/Data/all_CUBE...       0.0       0.0   \n",
       "1  /data/bigbone4/DeepLearning_temp/Data/all_CUBE...       0.0       0.0   \n",
       "2  /data/bigbone4/DeepLearning_temp/Data/all_CUBE...       0.0       0.0   \n",
       "3  /data/bigbone4/DeepLearning_temp/Data/all_CUBE...       0.0       0.0   \n",
       "4  /data/bigbone4/DeepLearning_temp/Data/all_CUBE...       2.5       1.0   \n",
       "\n",
       "   mfcBME  lfcBME patient  \n",
       "0       0       0    P052  \n",
       "1       0       0    P052  \n",
       "2       0       0    P052  \n",
       "3       0       0    P052  \n",
       "4       0       0    P122  "
      ]
     },
     "execution_count": 5,
     "metadata": {},
     "output_type": "execute_result"
    }
   ],
   "source": [
    "# Load in dataframe\n",
    "df = pd.read_csv(csv_dir)\n",
    "df['patient'] = df['mriFile'].apply(lambda f: os.path.splitext(os.path.basename(f))[0].split('_')[0])\n",
    "df.head()"
   ]
  },
  {
   "cell_type": "markdown",
   "metadata": {},
   "source": [
    "**Some quick batch list formatting:**"
   ]
  },
  {
   "cell_type": "code",
   "execution_count": 4,
   "metadata": {},
   "outputs": [
    {
     "data": {
      "text/html": [
       "<div>\n",
       "<style>\n",
       "    .dataframe thead tr:only-child th {\n",
       "        text-align: right;\n",
       "    }\n",
       "\n",
       "    .dataframe thead th {\n",
       "        text-align: left;\n",
       "    }\n",
       "\n",
       "    .dataframe tbody tr th {\n",
       "        vertical-align: top;\n",
       "    }\n",
       "</style>\n",
       "<table border=\"1\" class=\"dataframe\">\n",
       "  <thead>\n",
       "    <tr style=\"text-align: right;\">\n",
       "      <th></th>\n",
       "      <th>mfcWORMS</th>\n",
       "      <th>lfcWORMS</th>\n",
       "      <th>patient</th>\n",
       "      <th>mriFile</th>\n",
       "      <th>segFile</th>\n",
       "      <th>followUpN</th>\n",
       "    </tr>\n",
       "  </thead>\n",
       "  <tbody>\n",
       "    <tr>\n",
       "      <th>0</th>\n",
       "      <td>0.0</td>\n",
       "      <td>3.0</td>\n",
       "      <td>AF_2005</td>\n",
       "      <td>C:\\Users\\Raouf\\Documents\\raouf\\academic\\uc ber...</td>\n",
       "      <td>C:\\Users\\Raouf\\Documents\\raouf\\academic\\uc ber...</td>\n",
       "      <td>0</td>\n",
       "    </tr>\n",
       "    <tr>\n",
       "      <th>1</th>\n",
       "      <td>0.0</td>\n",
       "      <td>2.0</td>\n",
       "      <td>AF_2006</td>\n",
       "      <td>C:\\Users\\Raouf\\Documents\\raouf\\academic\\uc ber...</td>\n",
       "      <td>C:\\Users\\Raouf\\Documents\\raouf\\academic\\uc ber...</td>\n",
       "      <td>0</td>\n",
       "    </tr>\n",
       "    <tr>\n",
       "      <th>2</th>\n",
       "      <td>0.0</td>\n",
       "      <td>0.0</td>\n",
       "      <td>AF_2007</td>\n",
       "      <td>C:\\Users\\Raouf\\Documents\\raouf\\academic\\uc ber...</td>\n",
       "      <td>C:\\Users\\Raouf\\Documents\\raouf\\academic\\uc ber...</td>\n",
       "      <td>0</td>\n",
       "    </tr>\n",
       "    <tr>\n",
       "      <th>3</th>\n",
       "      <td>0.0</td>\n",
       "      <td>3.0</td>\n",
       "      <td>AF_2008</td>\n",
       "      <td>C:\\Users\\Raouf\\Documents\\raouf\\academic\\uc ber...</td>\n",
       "      <td>C:\\Users\\Raouf\\Documents\\raouf\\academic\\uc ber...</td>\n",
       "      <td>0</td>\n",
       "    </tr>\n",
       "    <tr>\n",
       "      <th>4</th>\n",
       "      <td>0.0</td>\n",
       "      <td>2.0</td>\n",
       "      <td>AF_2009</td>\n",
       "      <td>C:\\Users\\Raouf\\Documents\\raouf\\academic\\uc ber...</td>\n",
       "      <td>C:\\Users\\Raouf\\Documents\\raouf\\academic\\uc ber...</td>\n",
       "      <td>0</td>\n",
       "    </tr>\n",
       "  </tbody>\n",
       "</table>\n",
       "</div>"
      ],
      "text/plain": [
       "   mfcWORMS  lfcWORMS  patient  \\\n",
       "0       0.0       3.0  AF_2005   \n",
       "1       0.0       2.0  AF_2006   \n",
       "2       0.0       0.0  AF_2007   \n",
       "3       0.0       3.0  AF_2008   \n",
       "4       0.0       2.0  AF_2009   \n",
       "\n",
       "                                             mriFile  \\\n",
       "0  C:\\Users\\Raouf\\Documents\\raouf\\academic\\uc ber...   \n",
       "1  C:\\Users\\Raouf\\Documents\\raouf\\academic\\uc ber...   \n",
       "2  C:\\Users\\Raouf\\Documents\\raouf\\academic\\uc ber...   \n",
       "3  C:\\Users\\Raouf\\Documents\\raouf\\academic\\uc ber...   \n",
       "4  C:\\Users\\Raouf\\Documents\\raouf\\academic\\uc ber...   \n",
       "\n",
       "                                             segFile  followUpN  \n",
       "0  C:\\Users\\Raouf\\Documents\\raouf\\academic\\uc ber...          0  \n",
       "1  C:\\Users\\Raouf\\Documents\\raouf\\academic\\uc ber...          0  \n",
       "2  C:\\Users\\Raouf\\Documents\\raouf\\academic\\uc ber...          0  \n",
       "3  C:\\Users\\Raouf\\Documents\\raouf\\academic\\uc ber...          0  \n",
       "4  C:\\Users\\Raouf\\Documents\\raouf\\academic\\uc ber...          0  "
      ]
     },
     "execution_count": 4,
     "metadata": {},
     "output_type": "execute_result"
    }
   ],
   "source": [
    "# Bit of pre-processing\n",
    "# remove whitespace in columns\n",
    "df.columns = df.columns.str.strip()\n",
    "\n",
    "# get patient ID from image description\n",
    "df['patient'] = df['mfcDescription'].apply(lambda s: '_'.join(s.split('_')[:2]))\n",
    "\n",
    "# combine directory and image names\n",
    "df['mriFile'] = df.apply(lambda r: os.path.join(r['pathtoMRI'], r['mriName']), axis=1)\n",
    "df['segFile'] = df.apply(lambda r: os.path.join(r['pathtoSeg'], r['segName']), axis=1)\n",
    "\n",
    "# convert descriptions {baseline, 6_month...} to {0, 1, 2} to use as index\n",
    "df['followUpN'] = df['mfcDescription'].apply(lambda r: ('baseline' in r)*0 \n",
    "                                             + ('6_month' in r)*1 \n",
    "                                             + ('1_year' in r)*2)\n",
    "# remove unneeded columns\n",
    "df = df.drop(labels=['pathtoMRI', 'mriName', \n",
    "                     'pathtoSeg', 'segName', \n",
    "                     'mfcDescription', 'lfcDescription'],\n",
    "            axis=1)\n",
    "\n",
    "# this is needed for the next script -- did that to remove clutter\n",
    "# df.to_csv('formattedBatchlistAF.csv', index=False)\n",
    "\n",
    "df.head()"
   ]
  },
  {
   "cell_type": "markdown",
   "metadata": {},
   "source": [
    "**Useful functions:**"
   ]
  },
  {
   "cell_type": "code",
   "execution_count": 5,
   "metadata": {
    "collapsed": true
   },
   "outputs": [],
   "source": [
    "def bbox3d_size(img):\n",
    "    \"\"\"Gets edge coordinates for the 3D area with non-zero elements\"\"\"\n",
    "    r = np.any(img, axis=(1, 2))\n",
    "    c = np.any(img, axis=(0, 2))\n",
    "    z = np.any(img, axis=(0, 1))\n",
    "    ymin, ymax = np.where(r)[0][[0, -1]]\n",
    "    xmin, xmax = np.where(c)[0][[0, -1]]\n",
    "    zmin, zmax = np.where(z)[0][[0, -1]]\n",
    "    return ymax-ymin, xmax-xmin, zmax-zmin"
   ]
  },
  {
   "cell_type": "markdown",
   "metadata": {},
   "source": [
    "**Load segmentation images in a loop, updating the largest dimensions:**"
   ]
  },
  {
   "cell_type": "code",
   "execution_count": 6,
   "metadata": {},
   "outputs": [
    {
     "name": "stdout",
     "output_type": "stream",
     "text": [
      "Segmentation 1 of 23....\tOriginal: (512, 512, 112)\tLFC: (46, 168, 22) \t MFC: (125, 171, 31)\n",
      "Segmentation 2 of 23....\tOriginal: (512, 512, 216)\tLFC: (55, 171, 44) \t MFC: (60, 131, 41)\n",
      "Segmentation 3 of 23....\tOriginal: (512, 512, 248)\tLFC: (111, 146, 50) \t MFC: (135, 182, 54)\n",
      "Segmentation 4 of 23....\tOriginal: (512, 512, 199)\tLFC: (51, 150, 47) \t MFC: (81, 110, 44)\n",
      "Segmentation 5 of 23....\tOriginal: (512, 512, 208)\tLFC: (49, 167, 37) \t MFC: (116, 129, 44)\n",
      "Segmentation 6 of 23....\tOriginal: (512, 512, 208)\tLFC: (30, 131, 39) \t MFC: (98, 120, 51)\n",
      "Segmentation 7 of 23....\tOriginal: (512, 512, 240)\tLFC: (131, 189, 49) \t MFC: (150, 108, 52)\n",
      "Segmentation 8 of 23....\tOriginal: (512, 512, 216)\tLFC: (161, 218, 48) \t MFC: (142, 181, 54)\n",
      "Segmentation 9 of 23....\tOriginal: (512, 512, 216)\tLFC: (41, 155, 42) \t MFC: (139, 181, 54)\n",
      "Segmentation 10 of 23....\tOriginal: (512, 512, 216)\tLFC: (126, 195, 38) \t MFC: (63, 141, 39)\n",
      "Segmentation 11 of 23....\tOriginal: (512, 512, 248)\tLFC: (127, 196, 41) \t MFC: (121, 146, 44)\n",
      "Segmentation 12 of 23....\tOriginal: (512, 512, 224)\tLFC: (117, 185, 39) \t MFC: (43, 143, 53)\n",
      "Segmentation 13 of 23....\tOriginal: (512, 512, 224)\tLFC: (78, 164, 48) \t MFC: (126, 137, 45)\n",
      "Segmentation 14 of 23....\tOriginal: (512, 512, 248)\tLFC: (138, 172, 38) \t MFC: (130, 154, 41)\n",
      "Segmentation 15 of 23....\tOriginal: (512, 512, 216)\tLFC: (87, 208, 47) \t MFC: (148, 161, 52)\n",
      "Segmentation 16 of 23....\tOriginal: (512, 512, 224)\tLFC: (122, 161, 38) \t MFC: (120, 144, 51)\n",
      "Segmentation 17 of 23....\tOriginal: (512, 512, 216)\tLFC: (67, 170, 45) \t MFC: (87, 150, 40)\n",
      "Segmentation 18 of 23....\tOriginal: (512, 512, 220)\tLFC: (133, 179, 39) \t MFC: (125, 160, 40)\n",
      "Segmentation 19 of 23....\tOriginal: (512, 512, 224)\tLFC: (144, 198, 46) \t MFC: (127, 171, 48)\n",
      "Segmentation 20 of 23....\tOriginal: (512, 512, 212)\tLFC: (90, 174, 34) \t MFC: (121, 158, 48)\n",
      "Segmentation 21 of 23....\tOriginal: (512, 512, 232)\tLFC: (143, 213, 44) \t MFC: (121, 167, 44)\n",
      "Segmentation 22 of 23....\tOriginal: (512, 512, 208)\tLFC: (143, 189, 46) \t MFC: (137, 144, 42)\n",
      "Segmentation 23 of 23....\tOriginal: (512, 512, 232)\tLFC: (160, 156, 46) \t MFC: (146, 112, 51)\n",
      "\n",
      "Largest dimensions: [161, 218, 54]\n"
     ]
    }
   ],
   "source": [
    "max_dims = [0, 0, 0]\n",
    "seg_filedirs = df['segFile'].tolist()\n",
    "\n",
    "image_count = 0\n",
    "for seg_file in seg_filedirs:\n",
    "    image_count += 1\n",
    "    print('Segmentation {} of {}....'.format(image_count, len(seg_filedirs)), end=\"\")\n",
    "    img_seg= spio.loadmat(seg_file, squeeze_me=True)['pred_con_vol'].astype(np.float32)\n",
    "    img_lfc = np.squeeze(img_seg*[img_seg == 1])\n",
    "    img_mfc = np.squeeze(img_seg*[img_seg == 2])\n",
    "    \n",
    "    lfc_dims = bbox3d_size(img_lfc)\n",
    "    mfc_dims = bbox3d_size(img_mfc)\n",
    "    max_dims = [max([lfc_dims[i], mfc_dims[i], max_dims[i]]) for i in range(3)]\n",
    "    print('\\tOriginal: {}\\tLFC: {} \\t MFC: {}'.format(img_seg.shape, lfc_dims, mfc_dims))\n",
    "    \n",
    "print('\\nLargest dimensions: {}'.format(max_dims))"
   ]
  },
  {
   "cell_type": "markdown",
   "metadata": {},
   "source": [
    "**Saving largest dimensions as text file in root data directory:**"
   ]
  },
  {
   "cell_type": "code",
   "execution_count": 7,
   "metadata": {
    "collapsed": true
   },
   "outputs": [],
   "source": [
    "dim_file = os.path.join(data_root, 'largest_bbox.txt')\n",
    "roi_dims = max_dims\n",
    "\n",
    "try:\n",
    "    with open(dim_file, \"w\") as text_file:\n",
    "        text_file.write(\"{}\".format(str(roi_dims)))\n",
    "except Exception as e:\n",
    "    print(\"Unable to save text file with dimensions: \", dim_file, \": \", e)\n",
    "    raise"
   ]
  },
  {
   "cell_type": "code",
   "execution_count": null,
   "metadata": {
    "collapsed": true
   },
   "outputs": [],
   "source": []
  }
 ],
 "metadata": {
  "kernelspec": {
   "display_name": "Python 3",
   "language": "python",
   "name": "python3"
  },
  "language_info": {
   "codemirror_mode": {
    "name": "ipython",
    "version": 3
   },
   "file_extension": ".py",
   "mimetype": "text/x-python",
   "name": "python",
   "nbconvert_exporter": "python",
   "pygments_lexer": "ipython3",
   "version": "3.6.2"
  }
 },
 "nbformat": 4,
 "nbformat_minor": 2
}
