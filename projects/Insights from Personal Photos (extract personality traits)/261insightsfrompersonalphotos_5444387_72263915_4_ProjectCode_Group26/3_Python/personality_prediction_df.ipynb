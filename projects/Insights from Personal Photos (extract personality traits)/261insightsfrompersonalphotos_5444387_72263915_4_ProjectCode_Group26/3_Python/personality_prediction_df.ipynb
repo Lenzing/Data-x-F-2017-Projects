{
 "cells": [
  {
   "cell_type": "code",
   "execution_count": 125,
   "metadata": {
    "collapsed": true
   },
   "outputs": [],
   "source": [
    "import pickle\n",
    "import pandas as pd\n",
    "from sklearn.model_selection import train_test_split\n",
    "from matplotlib import pyplot as plt\n",
    "%matplotlib inline\n",
    "\n",
    "from sklearn.ensemble import RandomForestClassifier\n",
    "from sklearn.linear_model import LogisticRegression\n",
    "\n",
    "from nltk.corpus import wordnet\n"
   ]
  },
  {
   "cell_type": "code",
   "execution_count": 126,
   "metadata": {
    "collapsed": true
   },
   "outputs": [],
   "source": [
    "df = pd.read_pickle('binary_df')\n",
    "original = df.copy()"
   ]
  },
  {
   "cell_type": "code",
   "execution_count": 127,
   "metadata": {},
   "outputs": [
    {
     "data": {
      "text/html": [
       "<div>\n",
       "<style>\n",
       "    .dataframe thead tr:only-child th {\n",
       "        text-align: right;\n",
       "    }\n",
       "\n",
       "    .dataframe thead th {\n",
       "        text-align: left;\n",
       "    }\n",
       "\n",
       "    .dataframe tbody tr th {\n",
       "        vertical-align: top;\n",
       "    }\n",
       "</style>\n",
       "<table border=\"1\" class=\"dataframe\">\n",
       "  <thead>\n",
       "    <tr style=\"text-align: right;\">\n",
       "      <th></th>\n",
       "      <th>Human</th>\n",
       "      <th>People</th>\n",
       "      <th>Person</th>\n",
       "      <th>Apparel</th>\n",
       "      <th>Clothing</th>\n",
       "      <th>Maillot</th>\n",
       "      <th>Female</th>\n",
       "      <th>Dress</th>\n",
       "      <th>Bra</th>\n",
       "      <th>Lingerie</th>\n",
       "      <th>...</th>\n",
       "      <th>Frying Pan</th>\n",
       "      <th>Wok</th>\n",
       "      <th>Calf</th>\n",
       "      <th>Ribs</th>\n",
       "      <th>Jaguar</th>\n",
       "      <th>Toucan</th>\n",
       "      <th>Christmas Stocking</th>\n",
       "      <th>Stocking</th>\n",
       "      <th>Steak</th>\n",
       "      <th>I-E</th>\n",
       "    </tr>\n",
       "  </thead>\n",
       "  <tbody>\n",
       "    <tr>\n",
       "      <th>0</th>\n",
       "      <td>1</td>\n",
       "      <td>1</td>\n",
       "      <td>1</td>\n",
       "      <td>1</td>\n",
       "      <td>1</td>\n",
       "      <td>0</td>\n",
       "      <td>0</td>\n",
       "      <td>0</td>\n",
       "      <td>0</td>\n",
       "      <td>0</td>\n",
       "      <td>...</td>\n",
       "      <td>0</td>\n",
       "      <td>0</td>\n",
       "      <td>0</td>\n",
       "      <td>0</td>\n",
       "      <td>0</td>\n",
       "      <td>0</td>\n",
       "      <td>0</td>\n",
       "      <td>0</td>\n",
       "      <td>0</td>\n",
       "      <td>E</td>\n",
       "    </tr>\n",
       "    <tr>\n",
       "      <th>1</th>\n",
       "      <td>0</td>\n",
       "      <td>0</td>\n",
       "      <td>0</td>\n",
       "      <td>0</td>\n",
       "      <td>0</td>\n",
       "      <td>0</td>\n",
       "      <td>0</td>\n",
       "      <td>0</td>\n",
       "      <td>0</td>\n",
       "      <td>0</td>\n",
       "      <td>...</td>\n",
       "      <td>0</td>\n",
       "      <td>0</td>\n",
       "      <td>0</td>\n",
       "      <td>0</td>\n",
       "      <td>0</td>\n",
       "      <td>0</td>\n",
       "      <td>0</td>\n",
       "      <td>0</td>\n",
       "      <td>0</td>\n",
       "      <td>E</td>\n",
       "    </tr>\n",
       "    <tr>\n",
       "      <th>2</th>\n",
       "      <td>1</td>\n",
       "      <td>1</td>\n",
       "      <td>1</td>\n",
       "      <td>0</td>\n",
       "      <td>0</td>\n",
       "      <td>0</td>\n",
       "      <td>0</td>\n",
       "      <td>0</td>\n",
       "      <td>0</td>\n",
       "      <td>0</td>\n",
       "      <td>...</td>\n",
       "      <td>0</td>\n",
       "      <td>0</td>\n",
       "      <td>0</td>\n",
       "      <td>0</td>\n",
       "      <td>0</td>\n",
       "      <td>0</td>\n",
       "      <td>0</td>\n",
       "      <td>0</td>\n",
       "      <td>0</td>\n",
       "      <td>E</td>\n",
       "    </tr>\n",
       "    <tr>\n",
       "      <th>3</th>\n",
       "      <td>0</td>\n",
       "      <td>0</td>\n",
       "      <td>0</td>\n",
       "      <td>0</td>\n",
       "      <td>0</td>\n",
       "      <td>0</td>\n",
       "      <td>0</td>\n",
       "      <td>0</td>\n",
       "      <td>0</td>\n",
       "      <td>0</td>\n",
       "      <td>...</td>\n",
       "      <td>0</td>\n",
       "      <td>0</td>\n",
       "      <td>0</td>\n",
       "      <td>0</td>\n",
       "      <td>0</td>\n",
       "      <td>0</td>\n",
       "      <td>0</td>\n",
       "      <td>0</td>\n",
       "      <td>0</td>\n",
       "      <td>E</td>\n",
       "    </tr>\n",
       "    <tr>\n",
       "      <th>4</th>\n",
       "      <td>1</td>\n",
       "      <td>1</td>\n",
       "      <td>1</td>\n",
       "      <td>0</td>\n",
       "      <td>0</td>\n",
       "      <td>0</td>\n",
       "      <td>1</td>\n",
       "      <td>0</td>\n",
       "      <td>0</td>\n",
       "      <td>0</td>\n",
       "      <td>...</td>\n",
       "      <td>0</td>\n",
       "      <td>0</td>\n",
       "      <td>0</td>\n",
       "      <td>0</td>\n",
       "      <td>0</td>\n",
       "      <td>0</td>\n",
       "      <td>0</td>\n",
       "      <td>0</td>\n",
       "      <td>0</td>\n",
       "      <td>E</td>\n",
       "    </tr>\n",
       "  </tbody>\n",
       "</table>\n",
       "<p>5 rows × 1762 columns</p>\n",
       "</div>"
      ],
      "text/plain": [
       "   Human  People  Person  Apparel  Clothing  Maillot  Female  Dress  Bra  \\\n",
       "0      1       1       1        1         1        0       0      0    0   \n",
       "1      0       0       0        0         0        0       0      0    0   \n",
       "2      1       1       1        0         0        0       0      0    0   \n",
       "3      0       0       0        0         0        0       0      0    0   \n",
       "4      1       1       1        0         0        0       1      0    0   \n",
       "\n",
       "   Lingerie ...   Frying Pan  Wok  Calf  Ribs  Jaguar  Toucan  \\\n",
       "0         0 ...            0    0     0     0       0       0   \n",
       "1         0 ...            0    0     0     0       0       0   \n",
       "2         0 ...            0    0     0     0       0       0   \n",
       "3         0 ...            0    0     0     0       0       0   \n",
       "4         0 ...            0    0     0     0       0       0   \n",
       "\n",
       "   Christmas Stocking  Stocking  Steak  I-E  \n",
       "0                   0         0      0    E  \n",
       "1                   0         0      0    E  \n",
       "2                   0         0      0    E  \n",
       "3                   0         0      0    E  \n",
       "4                   0         0      0    E  \n",
       "\n",
       "[5 rows x 1762 columns]"
      ]
     },
     "execution_count": 127,
     "metadata": {},
     "output_type": "execute_result"
    }
   ],
   "source": [
    "df.head()"
   ]
  },
  {
   "cell_type": "code",
   "execution_count": 128,
   "metadata": {
    "collapsed": true
   },
   "outputs": [],
   "source": [
    "# add a column to extract personality sub-types (e.g. extroverted vs introverted)\n",
    "#for i in range(0,df.shape[0]):\n",
    "#    df.loc[i,'I-E'] = df.loc[i,'personality_type'][0]"
   ]
  },
  {
   "cell_type": "code",
   "execution_count": 129,
   "metadata": {
    "collapsed": true
   },
   "outputs": [],
   "source": [
    "# drop unecessary columns\n",
    "\n",
    "#columns = list(df.columns.values)\n",
    "#drop_col = [i for i in columns[columns.index('Unnamed: 0'):(columns.index('personality_type')+1)]]\n",
    "#df.drop(labels = drop_col, axis = 1, inplace = True)"
   ]
  },
  {
   "cell_type": "code",
   "execution_count": 130,
   "metadata": {},
   "outputs": [],
   "source": [
    "# dictionary with count of each tag \n",
    "tag_list = list(df.columns.values)\n",
    "tag_list.remove('I-E')\n",
    "\n",
    "tag_count = {}\n",
    "for col in tag_list:\n",
    "    tag_count[col] = df[df[col] > 0].shape[0]\n",
    "    \n",
    "# print tags that have been used over x times\n",
    "over_500_list = []\n",
    "for key, value in tag_count.items():\n",
    "    if value > 100:\n",
    "        over_500_list.append(key)\n",
    "        \n",
    "over_500_df = original[over_500_list].copy()"
   ]
  },
  {
   "cell_type": "code",
   "execution_count": 131,
   "metadata": {
    "collapsed": true
   },
   "outputs": [],
   "source": [
    "X_var = over_500_df\n",
    "y_var = df['I-E']\n",
    "\n",
    "X_train, X_test, y_train, y_test = train_test_split(X_var, y_var, test_size = .2, random_state = 3)"
   ]
  },
  {
   "cell_type": "code",
   "execution_count": 132,
   "metadata": {
    "collapsed": true
   },
   "outputs": [],
   "source": [
    "def model_fit(model, X_train, X_test, y_train, y_test):\n",
    "    model.fit(X_train, y_train)\n",
    "    train_acc = round(model.score(X_train, y_train) * 100, 5)\n",
    "    test_acc = round(model.score(X_test, y_test) * 100, 5)\n",
    "    \n",
    "    print('Train accuracy: ', train_acc, '\\nTest accuracy: ', test_acc)"
   ]
  },
  {
   "cell_type": "code",
   "execution_count": 133,
   "metadata": {},
   "outputs": [
    {
     "name": "stdout",
     "output_type": "stream",
     "text": [
      "Train accuracy:  57.12336 \n",
      "Test accuracy:  53.1906\n"
     ]
    }
   ],
   "source": [
    "model_fit(RandomForestClassifier(), X_train, X_test, y_train, y_test)"
   ]
  },
  {
   "cell_type": "code",
   "execution_count": 134,
   "metadata": {},
   "outputs": [
    {
     "name": "stdout",
     "output_type": "stream",
     "text": [
      "Train accuracy:  54.01575 \n",
      "Test accuracy:  53.35852\n"
     ]
    }
   ],
   "source": [
    "model_fit(LogisticRegression(), X_train, X_test, y_train, y_test)"
   ]
  },
  {
   "cell_type": "code",
   "execution_count": 135,
   "metadata": {},
   "outputs": [
    {
     "name": "stdout",
     "output_type": "stream",
     "text": [
      "Train accuracy:  53.92126 \n",
      "Test accuracy:  53.56843\n"
     ]
    }
   ],
   "source": [
    "from sklearn.ensemble import RandomForestClassifier, AdaBoostClassifier\n",
    "\n",
    "model_fit(AdaBoostClassifier(), X_train, X_test, y_train, y_test)"
   ]
  },
  {
   "cell_type": "code",
   "execution_count": 28,
   "metadata": {},
   "outputs": [],
   "source": [
    "tag_list = list(df.columns.values)\n",
    "tag_list.remove('I-E')\n",
    "\n",
    "# use wordnet to get similarity scores between words in similarity_df\n",
    "\n",
    "list1 = tag_list\n",
    "list2 = tag_list\n",
    "\n",
    "similarity_df = pd.DataFrame(index = list1, columns = list1)\n",
    "\n",
    "# find word similary score between each word in tag_list\n",
    "\n",
    "for word1 in list1:\n",
    "    for word2 in list2:\n",
    "        syns1 = wordnet.synsets(word1)\n",
    "        syns2 = wordnet.synsets(word2)\n",
    "        if len(syns1) == 0:\n",
    "            d = None\n",
    "        elif len(syns2) == 0:\n",
    "            d = None\n",
    "        else:\n",
    "            d = syns1[0].wup_similarity(syns2[0])\n",
    "            similarity_df.loc[word1, word2] = d"
   ]
  },
  {
   "cell_type": "code",
   "execution_count": 136,
   "metadata": {
    "collapsed": true
   },
   "outputs": [],
   "source": [
    "# create df of what other tag each tag is most similar to (None is no similar words, i.e. word not in dictionary)\n",
    "\n",
    "most_similar_df = pd.DataFrame(index = tag_list, columns = ['most_similar_word'])\n",
    "\n",
    "for tag in list1:\n",
    "    most_similar_percent = similarity_df[tag].sort_values(ascending = False)\n",
    "    most_similar_word = most_similar_percent.index.values[1]\n",
    "    \n",
    "    if pd.isnull(most_similar_percent[0]):\n",
    "        most_similar_df.loc[tag] = None\n",
    "    else:\n",
    "        most_similar_df.loc[tag] = most_similar_word"
   ]
  },
  {
   "cell_type": "code",
   "execution_count": 137,
   "metadata": {
    "collapsed": true
   },
   "outputs": [],
   "source": [
    "# create column with original word to reference\n",
    "most_similar_df['original_word'] = most_similar_df.index"
   ]
  },
  {
   "cell_type": "code",
   "execution_count": 138,
   "metadata": {
    "collapsed": true
   },
   "outputs": [],
   "source": [
    "# change None to 'misc' to reference later\n",
    "most_similar_df['most_similar_word'].fillna('Misc', inplace = True)"
   ]
  },
  {
   "cell_type": "code",
   "execution_count": 139,
   "metadata": {
    "collapsed": true
   },
   "outputs": [],
   "source": [
    "# group words that are most similar to the same word\n",
    "\n",
    "unique_similar_words = set(most_similar_df['most_similar_word'].tolist())\n",
    "group_clothing = most_similar_df.groupby(['most_similar_word'])\n",
    "\n",
    "similar_words_dict = {}"
   ]
  },
  {
   "cell_type": "code",
   "execution_count": 140,
   "metadata": {
    "collapsed": true
   },
   "outputs": [],
   "source": [
    "# create dictionary where values are list of words that are similar to the key \n",
    "\n",
    "for word in unique_similar_words:\n",
    "    group = most_similar_df.groupby(['most_similar_word'])\n",
    "    similar_words_dict['group_{}'.format(word)] = group.get_group(word)['original_word'].tolist()"
   ]
  },
  {
   "cell_type": "code",
   "execution_count": 165,
   "metadata": {},
   "outputs": [
    {
     "data": {
      "text/html": [
       "<div>\n",
       "<style>\n",
       "    .dataframe thead tr:only-child th {\n",
       "        text-align: right;\n",
       "    }\n",
       "\n",
       "    .dataframe thead th {\n",
       "        text-align: left;\n",
       "    }\n",
       "\n",
       "    .dataframe tbody tr th {\n",
       "        vertical-align: top;\n",
       "    }\n",
       "</style>\n",
       "<table border=\"1\" class=\"dataframe\">\n",
       "  <thead>\n",
       "    <tr style=\"text-align: right;\">\n",
       "      <th></th>\n",
       "      <th>most_similar_word</th>\n",
       "      <th>original_word</th>\n",
       "    </tr>\n",
       "  </thead>\n",
       "  <tbody>\n",
       "    <tr>\n",
       "      <th>Dress</th>\n",
       "      <td>Sari</td>\n",
       "      <td>Dress</td>\n",
       "    </tr>\n",
       "    <tr>\n",
       "      <th>Bra</th>\n",
       "      <td>Underwear</td>\n",
       "      <td>Bra</td>\n",
       "    </tr>\n",
       "    <tr>\n",
       "      <th>Lingerie</th>\n",
       "      <td>Underwear</td>\n",
       "      <td>Lingerie</td>\n",
       "    </tr>\n",
       "    <tr>\n",
       "      <th>Underwear</th>\n",
       "      <td>Lingerie</td>\n",
       "      <td>Underwear</td>\n",
       "    </tr>\n",
       "    <tr>\n",
       "      <th>Art</th>\n",
       "      <td>Mosaic</td>\n",
       "      <td>Art</td>\n",
       "    </tr>\n",
       "  </tbody>\n",
       "</table>\n",
       "</div>"
      ],
      "text/plain": [
       "          most_similar_word original_word\n",
       "Dress                  Sari         Dress\n",
       "Bra               Underwear           Bra\n",
       "Lingerie          Underwear      Lingerie\n",
       "Underwear          Lingerie     Underwear\n",
       "Art                  Mosaic           Art"
      ]
     },
     "execution_count": 165,
     "metadata": {},
     "output_type": "execute_result"
    }
   ],
   "source": [
    "most_similar_df[7:12]"
   ]
  },
  {
   "cell_type": "code",
   "execution_count": 141,
   "metadata": {
    "collapsed": true
   },
   "outputs": [],
   "source": [
    "# add group columns to group tags, with total +1 for each item in that group\n",
    "for key, value in similar_words_dict.items():\n",
    "    df[key] = df[value].sum(axis = 1)"
   ]
  },
  {
   "cell_type": "code",
   "execution_count": 142,
   "metadata": {
    "collapsed": true
   },
   "outputs": [],
   "source": [
    "# create new df with only grouped categories\n",
    "df_grouped = df.drop(tag_list, axis = 1)"
   ]
  },
  {
   "cell_type": "code",
   "execution_count": 143,
   "metadata": {
    "collapsed": true
   },
   "outputs": [],
   "source": [
    "group_list = df_grouped.columns.values.tolist()\n",
    "group_list.remove('I-E')\n",
    "\n",
    "X_var = df_grouped[group_list]\n",
    "y_var = df['I-E']\n",
    "\n",
    "X_train, X_test, y_train, y_test = train_test_split(X_var, y_var, test_size = .2, random_state = 3)"
   ]
  },
  {
   "cell_type": "code",
   "execution_count": 144,
   "metadata": {},
   "outputs": [],
   "source": [
    "tag_count = {}\n",
    "group_tag_list = list(X_var.columns.values)\n",
    "\n",
    "for col in group_tag_list:\n",
    "    tag_count[col] = X_var[X_var[col] > 0].shape[0]\n",
    "    \n",
    "# print tags that have been used over x times\n",
    "over_500_list = []\n",
    "for key, value in tag_count.items():\n",
    "    if value > 100:\n",
    "        over_500_list.append(key)"
   ]
  },
  {
   "cell_type": "code",
   "execution_count": 145,
   "metadata": {},
   "outputs": [],
   "source": [
    "over_500_df = X_var[over_500_list].copy()"
   ]
  },
  {
   "cell_type": "code",
   "execution_count": 146,
   "metadata": {},
   "outputs": [],
   "source": [
    "# replace all > 1 with 1\n",
    "for col in over_500_list:\n",
    "    over_500_df.loc[over_500_df[col] > 1, col] = 1"
   ]
  },
  {
   "cell_type": "code",
   "execution_count": 147,
   "metadata": {
    "collapsed": true
   },
   "outputs": [],
   "source": [
    "X_train, X_test, y_train, y_test = train_test_split(over_500_df, y_var, test_size = .2, random_state = 3)"
   ]
  },
  {
   "cell_type": "code",
   "execution_count": 148,
   "metadata": {},
   "outputs": [
    {
     "name": "stdout",
     "output_type": "stream",
     "text": [
      "Train accuracy:  0.577952755906 \n",
      "Test accuracy:  0.547439126784\n"
     ]
    }
   ],
   "source": [
    "rf = RandomForestClassifier()\n",
    "rf.fit(X_train, y_train)\n",
    "rf_train_acc = rf.score(X_train, y_train)\n",
    "rf_test_acc = rf.score(X_test, y_test)\n",
    "\n",
    "print('Train accuracy: ', rf_train_acc, '\\nTest accuracy: ', rf_test_acc)"
   ]
  },
  {
   "cell_type": "code",
   "execution_count": 100,
   "metadata": {},
   "outputs": [
    {
     "name": "stdout",
     "output_type": "stream",
     "text": [
      "Train accuracy:  53.6378 \n",
      "Test accuracy:  53.56843\n"
     ]
    }
   ],
   "source": [
    "# Logistic Regression\n",
    "\n",
    "logreg = LogisticRegression()\n",
    "logreg.fit(X_train, y_train)\n",
    "Y_pred = logreg.predict(X_test)\n",
    "logreg_train_acc = round(logreg.score(X_train, y_train) * 100, 5)\n",
    "logreg_test_acc = round(logreg.score(X_test, y_test) * 100, 5)\n",
    "\n",
    "print('Train accuracy: ', logreg_train_acc, '\\nTest accuracy: ', logreg_test_acc)"
   ]
  },
  {
   "cell_type": "code",
   "execution_count": 122,
   "metadata": {},
   "outputs": [
    {
     "name": "stdout",
     "output_type": "stream",
     "text": [
      "Train accuracy:  53.6063 \n",
      "Test accuracy:  53.44249\n"
     ]
    }
   ],
   "source": [
    "from sklearn.ensemble import RandomForestClassifier, AdaBoostClassifier\n",
    "\n",
    "model_fit(AdaBoostClassifier(), X_train, X_test, y_train, y_test)"
   ]
  },
  {
   "cell_type": "code",
   "execution_count": 72,
   "metadata": {},
   "outputs": [
    {
     "name": "stdout",
     "output_type": "stream",
     "text": [
      "Train accuracy:  53.18635 \n",
      "Test accuracy:  53.31654\n"
     ]
    }
   ],
   "source": [
    "from sklearn.svm import SVC\n",
    "\n",
    "model_fit(SVC(), X_train, X_test, y_train, y_test)"
   ]
  },
  {
   "cell_type": "code",
   "execution_count": 78,
   "metadata": {
    "collapsed": true
   },
   "outputs": [],
   "source": [
    "def plot_model_var_imp( model , X , y ):\n",
    "    imp = pd.DataFrame( \n",
    "        model.feature_importances_  , \n",
    "        columns = [ 'Importance' ] , \n",
    "        index = X.columns \n",
    "    )\n",
    "    imp = imp.sort_values( [ 'Importance' ] , ascending = True )\n",
    "    imp[ : 10 ].plot( kind = 'barh' )\n",
    "    print (model.score( X , y ))"
   ]
  },
  {
   "cell_type": "code",
   "execution_count": 123,
   "metadata": {},
   "outputs": [
    {
     "name": "stdout",
     "output_type": "stream",
     "text": [
      "0.578582677165\n"
     ]
    },
    {
     "data": {
      "image/png": "[encoded data removed]",
      "text/plain": [
       "<matplotlib.figure.Figure at 0x26e092e04e0>"
      ]
     },
     "metadata": {},
     "output_type": "display_data"
    }
   ],
   "source": [
    "plot_model_var_imp(rf, X_train, y_train)"
   ]
  },
  {
   "cell_type": "code",
   "execution_count": 164,
   "metadata": {},
   "outputs": [
    {
     "name": "stdout",
     "output_type": "stream",
     "text": [
      "1 loop, best of 3: 57.9 s per loop\n"
     ]
    }
   ],
   "source": [
    "%%timeit\n",
    "\n",
    "# remove tags with less than 75% confidence, convert values to binary\n",
    "for i in range(0, len(df)):\n",
    "    for j in tag_list:\n",
    "        if df.loc[i,j] > 69:\n",
    "            df.loc[i,j] = 1\n",
    "        #else:\n",
    "        #    df_copy.loc[i,j] = 0\n",
    "        \n",
    "for i in range(0, len(df)):\n",
    "    for j in tag_list:\n",
    "        if df.loc[i,j] != 1:\n",
    "            df.loc[i,j] = 0"
   ]
  }
 ],
 "metadata": {
  "kernelspec": {
   "display_name": "Python 3",
   "language": "python",
   "name": "python3"
  },
  "language_info": {
   "codemirror_mode": {
    "name": "ipython",
    "version": 3
   },
   "file_extension": ".py",
   "mimetype": "text/x-python",
   "name": "python",
   "nbconvert_exporter": "python",
   "pygments_lexer": "ipython3",
   "version": "3.6.1"
  }
 },
 "nbformat": 4,
 "nbformat_minor": 2
}
