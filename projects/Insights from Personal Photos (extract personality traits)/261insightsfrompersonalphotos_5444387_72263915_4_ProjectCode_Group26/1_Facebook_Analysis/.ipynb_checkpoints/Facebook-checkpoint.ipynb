{
 "cells": [
  {
   "cell_type": "code",
   "execution_count": 1,
   "metadata": {
    "collapsed": true
   },
   "outputs": [],
   "source": [
    "import requests \n",
    "import pandas as pd\n",
    "import numpy as np\n",
    "import json\n",
    "import time \n",
    "\n",
    "# Facebook Graph API access token. needed to use API\n",
    "access_token='EAAZAQLburfFIBACUkZBKfu4FF26naC1clijmZBaETGZBjjVTmrNAkNEfd3sPsaUnuvF0OcZCBRzXXyWoxTS2JJR7RfBnHxzVcwzcywUULKQFRiYI9sUJ1m0kzZATqAIHQWmM1s9ZAyOL8BZCIXZAyfed6nl85B6DRGDhd8Ac0gjxLogZDZD'"
   ]
  },
  {
   "cell_type": "code",
   "execution_count": 18,
   "metadata": {
    "collapsed": true
   },
   "outputs": [],
   "source": [
    "personality_types_str = ['INTP', 'ESFJ']\n",
    "personality_types = {}\n",
    "\n",
    "columns = ['name','user_id', 'profile_picture','personality_type','faces']\n",
    "# users dataframe containing personality type and photos\n",
    "users = pd.DataFrame(columns = columns)\n",
    "\n",
    "# mapping to facebook group id. link to group is facebook.com/groups/[group_id]\n",
    "group_id = {'INTP': '506879209400576', 'ESFJ': '2215581049'}\n",
    "\n",
    "# map personality types in personality_type dictionary to .json data from facebook api using group id (per group) and access token (static)\n",
    "# '/members?limit=' determines how many photos to extract\n",
    "for idx, i in enumerate(personality_types_str):\n",
    "    personality_types[i] = requests.get('https://graph.facebook.com/v2.5/' + group_id[i] + \\\n",
    "                                        '/members?limit=30&access_token=' + access_token).json()"
   ]
  },
  {
   "cell_type": "code",
   "execution_count": 19,
   "metadata": {},
   "outputs": [
    {
     "name": "stdout",
     "output_type": "stream",
     "text": [
      "Users Dataframe sample:\n",
      "   faces                         name personality_type  \\\n",
      "0   NaN           Nazmul Hasan Nahin             INTP   \n",
      "1   NaN                     Nic Dean             INTP   \n",
      "2   NaN  Tyre Eddie-James Washington             INTP   \n",
      "3   NaN                Galo Balbuena             INTP   \n",
      "4   NaN                           Il             INTP   \n",
      "\n",
      "                                     profile_picture            user_id  \n",
      "0  https://graph.facebook.com/1785896915041878/pi...   1785896915041878  \n",
      "1  https://graph.facebook.com/10214740801092458/p...  10214740801092458  \n",
      "2  https://graph.facebook.com/10155886435097174/p...  10155886435097174  \n",
      "3  https://graph.facebook.com/10213992133740428/p...  10213992133740428  \n",
      "4  https://graph.facebook.com/556099051388378/pic...    556099051388378   \n",
      "\n",
      "Number of users:\n",
      " 60\n"
     ]
    }
   ],
   "source": [
    "# extract data from json files to populate users dataframe \n",
    "# '/picture?height=' is adjustable to change image size\n",
    "for j in personality_types_str:\n",
    "    for i in personality_types[j]['data']:\n",
    "        temp = pd.DataFrame({'name': i['name'], 'user_id': i['id'], 'profile_picture': 'https://graph.facebook.com/' + \\\n",
    "                             i['id'] + '/picture?height=900&width=900','personality_type': ['INTP']}, index = None)\n",
    "        users = pd.concat([users,temp], axis = 0)\n",
    "\n",
    "users.reset_index(drop = True, inplace = True)\n",
    "print('Users Dataframe sample:\\n',users.head(),'\\n\\nNumber of users:\\n', users.shape[0])"
   ]
  },
  {
   "cell_type": "code",
   "execution_count": 20,
   "metadata": {
    "collapsed": true
   },
   "outputs": [],
   "source": [
    "import cv2\n",
    "import urllib.request\n",
    "\n",
    "# create function to return image from url\n",
    "def url_to_image(url):\n",
    "    # download the image, convert it to a NumPy array, and then read\n",
    "    # it into OpenCV format\n",
    "    resp = urllib.request.urlopen(url)\n",
    "    image = np.asarray(bytearray(resp.read()), dtype=\"uint8\")\n",
    "    image = cv2.imdecode(image, cv2.IMREAD_COLOR)\n",
    " \n",
    "    # return the image\n",
    "    return image"
   ]
  },
  {
   "cell_type": "code",
   "execution_count": 21,
   "metadata": {},
   "outputs": [
    {
     "name": "stdout",
     "output_type": "stream",
     "text": [
      "--- 28.01430034637451 seconds ---   faces                         name personality_type  \\\n",
      "0     1           Nazmul Hasan Nahin             INTP   \n",
      "1     0                     Nic Dean             INTP   \n",
      "2     2  Tyre Eddie-James Washington             INTP   \n",
      "3     0                Galo Balbuena             INTP   \n",
      "4     1                           Il             INTP   \n",
      "\n",
      "                                     profile_picture            user_id  \n",
      "0  https://graph.facebook.com/1785896915041878/pi...   1785896915041878  \n",
      "1  https://graph.facebook.com/10214740801092458/p...  10214740801092458  \n",
      "2  https://graph.facebook.com/10155886435097174/p...  10155886435097174  \n",
      "3  https://graph.facebook.com/10213992133740428/p...  10213992133740428  \n",
      "4  https://graph.facebook.com/556099051388378/pic...    556099051388378  \n"
     ]
    }
   ],
   "source": [
    "# measure time taken to execute facial detections\n",
    "start_time = time.time()\n",
    "\n",
    "# upload face/eye detection xml\n",
    "faceCascade = cv2.CascadeClassifier('haarcascade_frontalface_alt2.xml')\n",
    "eye_cascade = cv2.CascadeClassifier('haarcascade_eye.xml')\n",
    "\n",
    "# loop through images to only keep images with 1 face\n",
    "for i in range(0,users.shape[0]):\n",
    "    url = users.iloc[i,3]\n",
    "    #open image and convert to grayscale\n",
    "    image = url_to_image(url)\n",
    "    gray = cv2.cvtColor(image, cv2.COLOR_BGR2GRAY)\n",
    "    faces = faceCascade.detectMultiScale(gray, scaleFactor=1.1, minNeighbors=5, \\\n",
    "                                         minSize=(50, 50), flags = cv2.CASCADE_SCALE_IMAGE)\n",
    "    \n",
    "    #download crop of face if only 1 face\n",
    "    if len(faces) == 1:\n",
    "        for (x, y, w, h) in faces:\n",
    "            sub_face = image[y:y+h, x:x+w]\n",
    "            face_file_name = 'C:\\\\Users\\\\kevin\\\\OneDrive\\\\Documents\\\\Fall 2017\\\\290 Data-X\\\\Facebook Faces\\\\' + users.iloc[i,4] + '.jpg'\n",
    "            cv2.imwrite(face_file_name, sub_face)\n",
    "    \n",
    "    #fill 'faces' column with how many faces in each user's profile picture\n",
    "    users.iloc[i,0] = len(faces)\n",
    "\n",
    "#runtime for 20 photos: 9.0308256149292 seconds\n",
    "print(\"--- %s seconds ---\" % (time.time() - start_time), users.head())"
   ]
  },
  {
   "cell_type": "code",
   "execution_count": 7,
   "metadata": {
    "collapsed": true
   },
   "outputs": [],
   "source": [
    "#create new dataframe with only users with a profile picture containing one face\n",
    "users_one_face = users[users['faces'] == 1].head()"
   ]
  },
  {
   "cell_type": "code",
   "execution_count": 11,
   "metadata": {
    "collapsed": true
   },
   "outputs": [],
   "source": [
    "#code to run through faces to view detection of single face\n",
    "#for i in range(0,users_one_face.shape[0]):\n",
    "    #url = users_one_face.iloc[i,3]\n",
    "    #image = url_to_image(url)\n",
    "    #gray = cv2.cvtColor(image, cv2.COLOR_BGR2GRAY)\n",
    "    #faces = faceCascade.detectMultiScale(gray, scaleFactor=1.1, minNeighbors=5, \\\n",
    "    #                                     minSize=(50, 50), flags = cv2.CASCADE_SCALE_IMAGE)\n",
    "    \n",
    "    #for (x, y, w, h) in faces:\n",
    "    #    cv2.rectangle(image, (x, y), (x+w, y+h), (0, 160, 0), 2)\n",
    "\n",
    "    #cv2.imshow('Image',image)\n",
    "    #cv2.waitKey(1000)"
   ]
  },
  {
   "cell_type": "code",
   "execution_count": 219,
   "metadata": {},
   "outputs": [
    {
     "name": "stdout",
     "output_type": "stream",
     "text": [
      "Found 0 faces!\n"
     ]
    }
   ],
   "source": [
    "gray = cv2.cvtColor(image, cv2.COLOR_BGR2GRAY)\n",
    "\n",
    "image = url_to_image(url)\n",
    "\n",
    "# Detect faces in the image\n",
    "faces = faceCascade.detectMultiScale(\n",
    "    gray,\n",
    "    scaleFactor=1.1,\n",
    "    minNeighbors=5,\n",
    "    minSize=(50, 50),\n",
    "    flags = cv2.CASCADE_SCALE_IMAGE\n",
    ")\n",
    "\n",
    "print(\"Found {0} faces!\".format(len(faces)))\n"
   ]
  },
  {
   "cell_type": "code",
   "execution_count": null,
   "metadata": {
    "collapsed": true
   },
   "outputs": [],
   "source": [
    "# Draw a rectangle around the faces\n",
    "for (x, y, w, h) in faces:\n",
    "    cv2.rectangle(image, (x, y), (x+w, y+h), (0, 320, 0), 2)\n",
    "\n",
    "cv2.imshow('Image',image)\n",
    "cv2.waitKey(0)\n"
   ]
  }
 ],
 "metadata": {
  "kernelspec": {
   "display_name": "Python 3",
   "language": "python",
   "name": "python3"
  },
  "language_info": {
   "codemirror_mode": {
    "name": "ipython",
    "version": 3
   },
   "file_extension": ".py",
   "mimetype": "text/x-python",
   "name": "python",
   "nbconvert_exporter": "python",
   "pygments_lexer": "ipython3",
   "version": "3.6.1"
  }
 },
 "nbformat": 4,
 "nbformat_minor": 2
}
